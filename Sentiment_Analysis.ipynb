{
 "cells": [
  {
   "cell_type": "code",
   "execution_count": 3,
   "id": "7030d942",
   "metadata": {
    "scrolled": true
   },
   "outputs": [
    {
     "name": "stdout",
     "output_type": "stream",
     "text": [
      "Collecting fr-core-news-sm==3.5.0\n",
      "  Downloading https://github.com/explosion/spacy-models/releases/download/fr_core_news_sm-3.5.0/fr_core_news_sm-3.5.0-py3-none-any.whl (16.3 MB)\n",
      "     -------------------------------------- 16.3/16.3 MB 694.5 kB/s eta 0:00:00\n",
      "Requirement already satisfied: spacy<3.6.0,>=3.5.0 in c:\\users\\zawwar\\anaconda3_new\\lib\\site-packages (from fr-core-news-sm==3.5.0) (3.5.0)\n",
      "Requirement already satisfied: typer<0.8.0,>=0.3.0 in c:\\users\\zawwar\\anaconda3_new\\lib\\site-packages (from spacy<3.6.0,>=3.5.0->fr-core-news-sm==3.5.0) (0.7.0)\n",
      "Requirement already satisfied: pydantic!=1.8,!=1.8.1,<1.11.0,>=1.7.4 in c:\\users\\zawwar\\anaconda3_new\\lib\\site-packages (from spacy<3.6.0,>=3.5.0->fr-core-news-sm==3.5.0) (1.10.5)\n",
      "Requirement already satisfied: setuptools in c:\\users\\zawwar\\anaconda3_new\\lib\\site-packages (from spacy<3.6.0,>=3.5.0->fr-core-news-sm==3.5.0) (63.4.1)\n",
      "Requirement already satisfied: spacy-loggers<2.0.0,>=1.0.0 in c:\\users\\zawwar\\anaconda3_new\\lib\\site-packages (from spacy<3.6.0,>=3.5.0->fr-core-news-sm==3.5.0) (1.0.4)\n",
      "Requirement already satisfied: jinja2 in c:\\users\\zawwar\\anaconda3_new\\lib\\site-packages (from spacy<3.6.0,>=3.5.0->fr-core-news-sm==3.5.0) (2.11.3)\n",
      "Requirement already satisfied: murmurhash<1.1.0,>=0.28.0 in c:\\users\\zawwar\\anaconda3_new\\lib\\site-packages (from spacy<3.6.0,>=3.5.0->fr-core-news-sm==3.5.0) (1.0.9)\n",
      "Requirement already satisfied: pathy>=0.10.0 in c:\\users\\zawwar\\anaconda3_new\\lib\\site-packages (from spacy<3.6.0,>=3.5.0->fr-core-news-sm==3.5.0) (0.10.1)\n",
      "Requirement already satisfied: cymem<2.1.0,>=2.0.2 in c:\\users\\zawwar\\anaconda3_new\\lib\\site-packages (from spacy<3.6.0,>=3.5.0->fr-core-news-sm==3.5.0) (2.0.7)\n",
      "Requirement already satisfied: tqdm<5.0.0,>=4.38.0 in c:\\users\\zawwar\\anaconda3_new\\lib\\site-packages (from spacy<3.6.0,>=3.5.0->fr-core-news-sm==3.5.0) (4.64.1)\n",
      "Requirement already satisfied: catalogue<2.1.0,>=2.0.6 in c:\\users\\zawwar\\anaconda3_new\\lib\\site-packages (from spacy<3.6.0,>=3.5.0->fr-core-news-sm==3.5.0) (2.0.8)\n",
      "Requirement already satisfied: smart-open<7.0.0,>=5.2.1 in c:\\users\\zawwar\\anaconda3_new\\lib\\site-packages (from spacy<3.6.0,>=3.5.0->fr-core-news-sm==3.5.0) (5.2.1)\n",
      "Requirement already satisfied: packaging>=20.0 in c:\\users\\zawwar\\anaconda3_new\\lib\\site-packages (from spacy<3.6.0,>=3.5.0->fr-core-news-sm==3.5.0) (21.3)\n",
      "Requirement already satisfied: requests<3.0.0,>=2.13.0 in c:\\users\\zawwar\\anaconda3_new\\lib\\site-packages (from spacy<3.6.0,>=3.5.0->fr-core-news-sm==3.5.0) (2.28.1)\n",
      "Requirement already satisfied: langcodes<4.0.0,>=3.2.0 in c:\\users\\zawwar\\anaconda3_new\\lib\\site-packages (from spacy<3.6.0,>=3.5.0->fr-core-news-sm==3.5.0) (3.3.0)\n",
      "Requirement already satisfied: preshed<3.1.0,>=3.0.2 in c:\\users\\zawwar\\anaconda3_new\\lib\\site-packages (from spacy<3.6.0,>=3.5.0->fr-core-news-sm==3.5.0) (3.0.8)\n",
      "Requirement already satisfied: numpy>=1.15.0 in c:\\users\\zawwar\\anaconda3_new\\lib\\site-packages (from spacy<3.6.0,>=3.5.0->fr-core-news-sm==3.5.0) (1.23.2)\n",
      "Requirement already satisfied: spacy-legacy<3.1.0,>=3.0.11 in c:\\users\\zawwar\\anaconda3_new\\lib\\site-packages (from spacy<3.6.0,>=3.5.0->fr-core-news-sm==3.5.0) (3.0.12)\n",
      "Requirement already satisfied: thinc<8.2.0,>=8.1.0 in c:\\users\\zawwar\\anaconda3_new\\lib\\site-packages (from spacy<3.6.0,>=3.5.0->fr-core-news-sm==3.5.0) (8.1.7)\n",
      "Requirement already satisfied: wasabi<1.2.0,>=0.9.1 in c:\\users\\zawwar\\anaconda3_new\\lib\\site-packages (from spacy<3.6.0,>=3.5.0->fr-core-news-sm==3.5.0) (1.1.1)\n",
      "Requirement already satisfied: srsly<3.0.0,>=2.4.3 in c:\\users\\zawwar\\anaconda3_new\\lib\\site-packages (from spacy<3.6.0,>=3.5.0->fr-core-news-sm==3.5.0) (2.4.6)\n",
      "Requirement already satisfied: pyparsing!=3.0.5,>=2.0.2 in c:\\users\\zawwar\\anaconda3_new\\lib\\site-packages (from packaging>=20.0->spacy<3.6.0,>=3.5.0->fr-core-news-sm==3.5.0) (3.0.9)\n",
      "Requirement already satisfied: typing-extensions>=4.2.0 in c:\\users\\zawwar\\anaconda3_new\\lib\\site-packages (from pydantic!=1.8,!=1.8.1,<1.11.0,>=1.7.4->spacy<3.6.0,>=3.5.0->fr-core-news-sm==3.5.0) (4.3.0)\n",
      "Requirement already satisfied: charset-normalizer<3,>=2 in c:\\users\\zawwar\\anaconda3_new\\lib\\site-packages (from requests<3.0.0,>=2.13.0->spacy<3.6.0,>=3.5.0->fr-core-news-sm==3.5.0) (2.0.4)\n",
      "Requirement already satisfied: urllib3<1.27,>=1.21.1 in c:\\users\\zawwar\\anaconda3_new\\lib\\site-packages (from requests<3.0.0,>=2.13.0->spacy<3.6.0,>=3.5.0->fr-core-news-sm==3.5.0) (1.26.11)\n",
      "Requirement already satisfied: idna<4,>=2.5 in c:\\users\\zawwar\\anaconda3_new\\lib\\site-packages (from requests<3.0.0,>=2.13.0->spacy<3.6.0,>=3.5.0->fr-core-news-sm==3.5.0) (3.3)\n",
      "Requirement already satisfied: certifi>=2017.4.17 in c:\\users\\zawwar\\anaconda3_new\\lib\\site-packages (from requests<3.0.0,>=2.13.0->spacy<3.6.0,>=3.5.0->fr-core-news-sm==3.5.0) (2022.9.14)\n",
      "Requirement already satisfied: confection<1.0.0,>=0.0.1 in c:\\users\\zawwar\\anaconda3_new\\lib\\site-packages (from thinc<8.2.0,>=8.1.0->spacy<3.6.0,>=3.5.0->fr-core-news-sm==3.5.0) (0.0.4)\n",
      "Requirement already satisfied: blis<0.8.0,>=0.7.8 in c:\\users\\zawwar\\anaconda3_new\\lib\\site-packages (from thinc<8.2.0,>=8.1.0->spacy<3.6.0,>=3.5.0->fr-core-news-sm==3.5.0) (0.7.9)\n",
      "Requirement already satisfied: colorama in c:\\users\\zawwar\\anaconda3_new\\lib\\site-packages (from tqdm<5.0.0,>=4.38.0->spacy<3.6.0,>=3.5.0->fr-core-news-sm==3.5.0) (0.4.6)\n",
      "Requirement already satisfied: click<9.0.0,>=7.1.1 in c:\\users\\zawwar\\anaconda3_new\\lib\\site-packages (from typer<0.8.0,>=0.3.0->spacy<3.6.0,>=3.5.0->fr-core-news-sm==3.5.0) (8.0.4)\n",
      "Requirement already satisfied: MarkupSafe>=0.23 in c:\\users\\zawwar\\anaconda3_new\\lib\\site-packages (from jinja2->spacy<3.6.0,>=3.5.0->fr-core-news-sm==3.5.0) (2.0.1)\n",
      "Installing collected packages: fr-core-news-sm\n",
      "Successfully installed fr-core-news-sm-3.5.0\n",
      "\u001b[38;5;2m[+] Download and installation successful\u001b[0m\n",
      "You can now load the package via spacy.load('fr_core_news_sm')\n"
     ]
    }
   ],
   "source": [
    "!python -m spacy download fr_core_news_sm\n",
    "\n",
    "# The fr_core_news_sm is downloaded "
   ]
  },
  {
   "cell_type": "markdown",
   "id": "f0b7f35d",
   "metadata": {},
   "source": [
    "# Now we have loaded spacy and textblob to do sentiment analysis"
   ]
  },
  {
   "cell_type": "code",
   "execution_count": 70,
   "id": "f478a21a",
   "metadata": {},
   "outputs": [],
   "source": [
    "import os\n",
    "import spacy\n",
    "from textblob import TextBlob\n",
    "\n",
    "# Load the French language model in spaCy\n",
    "nlp = spacy.load('fr_core_news_sm')"
   ]
  },
  {
   "cell_type": "code",
   "execution_count": 71,
   "id": "8acdafd8",
   "metadata": {},
   "outputs": [],
   "source": [
    "#1. The analyze sentiment function first load the file through its paramete, Tokenize the article using spaCy,\n",
    "#2. the extracts sentences from the article.\n",
    "#3. Then it performs sentiment analysis for each sentence in our article by using textblob library\n",
    "#4. Them it calculates overall sentiment score by takng mean of all sentiments\n",
    "#5. Then it returns sentiments as per the criteria:  \n",
    "#     if overall_sentiment_score < 0:\n",
    "#         return 'negative'\n",
    "#     elif overall_sentiment_score == 0:\n",
    "#         return 'neutral'\n",
    "#     else:\n",
    "#         return 'positive'"
   ]
  },
  {
   "cell_type": "code",
   "execution_count": 187,
   "id": "b8e7386c",
   "metadata": {},
   "outputs": [],
   "source": [
    "# Variable to store each articles and its sentiments\n",
    "Articles_Sentiments = []\n",
    "Articles = []"
   ]
  },
  {
   "cell_type": "code",
   "execution_count": 188,
   "id": "d957fb9a",
   "metadata": {},
   "outputs": [],
   "source": [
    "def analyze_sentiment(article):\n",
    "    # Tokenize the article using spaCy\n",
    "    doc = nlp(article)\n",
    "    Articles.append(doc)\n",
    "    \n",
    "    # Extract sentences from the article\n",
    "    sentences = [sent.text for sent in doc.sents]\n",
    "    \n",
    "    # Perform sentiment analysis on each sentence using TextBlob\n",
    "    sentiment_scores = []\n",
    "    for sentence in sentences:\n",
    "        blob = TextBlob(sentence.lower())\n",
    "        sentiment_scores.append(blob.sentiment.polarity)\n",
    "    \n",
    "    # Calculate the overall sentiment score of the article\n",
    "    overall_sentiment_score = sum(sentiment_scores) / len(sentiment_scores)\n",
    "    \n",
    "    if overall_sentiment_score < 0:\n",
    "        Articles_Sentiments.append(\"negative\")\n",
    "        return 'negative'\n",
    "    elif overall_sentiment_score == 0:\n",
    "        Articles_Sentiments.append(\"neutral\")\n",
    "        return 'neutral'\n",
    "    else:\n",
    "        Articles_Sentiments.append(\"positive\")\n",
    "        return 'positive'"
   ]
  },
  {
   "cell_type": "code",
   "execution_count": 189,
   "id": "fa3ca669",
   "metadata": {},
   "outputs": [],
   "source": [
    "# Folder path where articles are saved\n",
    "folder_path = 'articles_txt/'"
   ]
  },
  {
   "cell_type": "code",
   "execution_count": 190,
   "id": "c2416cdf",
   "metadata": {},
   "outputs": [
    {
     "data": {
      "text/plain": [
       "'articles_txt/'"
      ]
     },
     "execution_count": 190,
     "metadata": {},
     "output_type": "execute_result"
    }
   ],
   "source": [
    "# checking\n",
    "folder_path"
   ]
  },
  {
   "cell_type": "code",
   "execution_count": 191,
   "id": "3f501060",
   "metadata": {},
   "outputs": [],
   "source": [
    "# Create a file to store the sentiment scores\n",
    "output_file = 'sentiment_scores.txt'"
   ]
  },
  {
   "cell_type": "code",
   "execution_count": 192,
   "id": "f6119d68",
   "metadata": {},
   "outputs": [],
   "source": [
    "# These variables stores the count of sentiment, either it is positive, negative or neutral\n",
    "negative = 0\n",
    "positive = 0\n",
    "neutral = 0"
   ]
  },
  {
   "cell_type": "markdown",
   "id": "767b39f4",
   "metadata": {},
   "source": [
    "# Here sentiment is calculated for each articles  "
   ]
  },
  {
   "cell_type": "code",
   "execution_count": 193,
   "id": "23462cea",
   "metadata": {},
   "outputs": [],
   "source": [
    "#1. First it loads the folder path and selects each file which is txt\n",
    "#2. The loaded file is then provided to analyze_sentiment function which will generate the sentiment\n",
    "#3. After the sentiment is calculated, the sentiment is being added to their variables for the count\n",
    "#4. Last step is to write each articles sentiment in a file with the article name "
   ]
  },
  {
   "cell_type": "code",
   "execution_count": 194,
   "id": "c1c4f51e",
   "metadata": {
    "scrolled": true
   },
   "outputs": [
    {
     "name": "stdout",
     "output_type": "stream",
     "text": [
      "Sentiment scores saved to sentiment_scores.txt\n"
     ]
    }
   ],
   "source": [
    "# Open the output file in write mode\n",
    "with open(output_file, 'w', encoding='utf-8') as file:\n",
    "    # Iterate over each file in the folder\n",
    "    for filename in os.listdir(folder_path):\n",
    "        if filename.endswith('.txt'):\n",
    "            file_path = os.path.join(folder_path, filename)\n",
    "            \n",
    "            # Read the content of the article\n",
    "            with open(file_path, 'r', encoding='utf-8') as article_file:\n",
    "                article_text = article_file.read()\n",
    "            \n",
    "            # Perform sentiment analysis on the article\n",
    "            sentiment_score = analyze_sentiment(article_text)\n",
    "            \n",
    "            if sentiment_score == \"positive\":\n",
    "                positive += 1\n",
    "            elif sentiment_score == \"negative\":\n",
    "                negative += 1\n",
    "            else:\n",
    "                neutral += 1\n",
    "            \n",
    "            # Write the filename and sentiment score to the output file\n",
    "            file.write(\"File: \" + filename + \"\\n\")\n",
    "            file.write(\"Sentiment Score: \" + str(sentiment_score) + \"\\n\")\n",
    "            file.write(\"--------------------------------------\\n\")\n",
    "\n",
    "# Print a message indicating the sentiment scores are saved\n",
    "print(\"Sentiment scores saved to\", output_file)"
   ]
  },
  {
   "cell_type": "code",
   "execution_count": 195,
   "id": "02c099e1",
   "metadata": {},
   "outputs": [],
   "source": [
    "# Chechking the count of posiitive, negative and neutral sentiments"
   ]
  },
  {
   "cell_type": "code",
   "execution_count": 196,
   "id": "528f3532",
   "metadata": {},
   "outputs": [
    {
     "data": {
      "text/plain": [
       "96"
      ]
     },
     "execution_count": 196,
     "metadata": {},
     "output_type": "execute_result"
    }
   ],
   "source": [
    "positive"
   ]
  },
  {
   "cell_type": "code",
   "execution_count": 197,
   "id": "33167080",
   "metadata": {},
   "outputs": [
    {
     "data": {
      "text/plain": [
       "23"
      ]
     },
     "execution_count": 197,
     "metadata": {},
     "output_type": "execute_result"
    }
   ],
   "source": [
    "negative"
   ]
  },
  {
   "cell_type": "code",
   "execution_count": 198,
   "id": "78aba284",
   "metadata": {},
   "outputs": [
    {
     "data": {
      "text/plain": [
       "31"
      ]
     },
     "execution_count": 198,
     "metadata": {},
     "output_type": "execute_result"
    }
   ],
   "source": [
    "neutral"
   ]
  },
  {
   "cell_type": "raw",
   "id": "20494947",
   "metadata": {},
   "source": [
    "# PLOTTING GRAPH WHICH SHOWS THE WEIGHT OF EACH SENTIMENT"
   ]
  },
  {
   "cell_type": "code",
   "execution_count": 199,
   "id": "0ff3c37f",
   "metadata": {},
   "outputs": [
    {
     "data": {
      "image/png": "[encoded data removed]",
      "text/plain": [
       "<Figure size 640x480 with 1 Axes>"
      ]
     },
     "metadata": {},
     "output_type": "display_data"
    }
   ],
   "source": [
    "# Importing Matplotlib\n",
    "import matplotlib.pyplot as plt\n",
    "\n",
    "# Our sentiments\n",
    "categories = ['Positive', 'Negative', 'Neutral']\n",
    "values = [positiv, negative, neutral]\n",
    "\n",
    "# Set the width of the bars\n",
    "bar_width = 0.5\n",
    "\n",
    "# Set the positions of the bars on the x-axis\n",
    "bar_positions = range(len(categories))\n",
    "\n",
    "# Create the bar chart\n",
    "plt.bar(bar_positions, values, color=['green', 'red', 'blue'], width=bar_width)\n",
    "\n",
    "# Customize the chart\n",
    "plt.xlabel('Sentiment')\n",
    "plt.ylabel('Count')\n",
    "plt.title('Sentiment Analysis')\n",
    "plt.xticks(bar_positions, categories)\n",
    "\n",
    "# Show the chart\n",
    "plt.show()\n"
   ]
  },
  {
   "cell_type": "code",
   "execution_count": 200,
   "id": "365f11e5",
   "metadata": {},
   "outputs": [
    {
     "data": {
      "text/plain": [
       "Biens et services miniers au Burkina : Une troisième journée pour encourager les acteurs locaux\n",
       "Accueil > Actualités > DOSSIERS > Mines, mineurs, miniers, énergie •  • lundi 4 octobre 2021 à 19h31min\n",
       "L’agence Burkina networking, en collaboration avec la Chambre des mines du Burkina, organisent les 4 et 5 octobre 2021 à Bobo-Dioulasso, la troisième édition des Journées promotionnelles sur la fourniture locale des biens et services miniers.\n",
       "Débutées le lundi 4 octobre 2021, ces journées ont pour thème « Fourniture de biens et services miniers : quel mécanisme pour une meilleure compétitivité des fournisseurs locaux ? »\n",
       "Elles ont pour objectif de sensibiliser et de renforcer les capacités des acteurs économiques locaux en vue de stimuler l’approvisionnement local en biens et services miniers dans la région du grand Ouest.\n",
       "Les participants\n",
       "Elles visent par ailleurs à offrir un cadre de réflexion et de partage d’expériences sur les initiatives de promotion des achats locaux dans le secteur minier (sociétés minières, associations de fournisseurs, gouvernement, etc.) ; communiquer sur la stratégie nationale du contenu local (ministère de l’Energie, des mines et des carrières) ; communiquer sur la stratégie nationale d’industrialisation…\n",
       "Le secteur minier a connu un essor important dans la dernière décennie au Burkina Faso. Ainsi, d’une production de 5,6 tonnes d’or en 2008, le Burkina Faso a exporté 62,138 tonnes en 2020. La contribution du secteur minier au budget de l’Etat s’est fortement améliorée au cours de ces dernières années passant de 8,912 milliards de francs CFA en 2008 à 322 milliards francs CFA en 2020.\n",
       "Visite de stands\n",
       "Au-delà de cette contribution directe au budget de l’Etat, l’existence de l’industrie minière est une aubaine pour le développement d’une économie locale dynamique à travers les achats locaux.\n",
       "Cependant, malgré ce boom minier, de nombreux défis restent encore à relever en termes de captation des retombées socioéconomiques de ce secteur stratégique pour le pays.\n",
       "En effet, selon une étude conjointe réalisée en 2018 par la Chambre des mines du Burkina et le ministère en charge des mines, sur l’ensemble des approvisionnements réalisés par les sociétés minières, le Burkina Faso n’a pu capter que 15%, sur un montant de plus de 400 milliards de francs CFA par an. Ce qui dénote un manque à gagner considérable pour l’économie nationale et qui illustre un écart important entre les besoins de l’industrie minière et les capacités locales.\n",
       "Photo de famille\n",
       "Plusieurs raisons justifient ces écarts : d’une part, les entrepreneurs locaux dénoncent surtout un manque d’ouverture du secteur aux possibilités locales, et d’autre part, les sociétés minières expliquent cette situation par le faible bassin d’entreprises locales dans les zones minières, des capacités insuffisantes pour répondre aux standards opérationnels de l’industrie et une base industrielle nationale faible.\n",
       "C’est pour arriver à bout de cette problématique et offrir une vitrine promotionnelle aux acteurs du contenu local dans le secteur minier que ce rendez-vous annuel dénommé \"Journées promotionnelles sur la fourniture locale des biens et services miniers\" a été initié par l’agence Burkina networking en collaboration avec la Chambre des mines du Burkina.\n",
       "Ismaël Bachir Ouédraogo, ministre en charge des mines\n",
       "Le ministre des mines et des carrières, Ismaël Bachir Ouédraogo, a salué la tenue de cette troisième édition qui se tient juste deux semaines après la prise d’un décret en conseil de ministre sur la fourniture locale au niveau des mines. Lequel décret fait obligation aux mines d’accorder un certain pourcentage au niveau de la commande aux entreprises burkinabè. Pour que le Burkina se développe avec le potentiel minier, il estime qu’il faut travailler à capitaliser beaucoup plus sur la chaîne de valeurs et pérenniser ces ressources à travers la raffinerie, le stockage, devenir propriétaire d’une mine…\n",
       "Adama Soro, président de la Chambre des mines du Burkina\n",
       "Pour Adama Soro, président de la Chambre des mines du Burkina, l’adoption du décret va permettre à tous les acteurs de faire un pas en avant. Aussi, ils sont prêts à accompagner l’Alliance des fournisseurs burkinabè de biens et services miniers (ABSM) à atteindre l’objectif de 35% d’ici 2026.\n",
       "Yves Zongo président de l’ABSM\n",
       "La Chambre des mines compte également contribuer à renforcer le cadre de mise en œuvre pratique pour que, lorsque le décret va être mis en œuvre, cela ne joue pas sur la compétitivité du secteur minier ; que la situation profite aux fournisseurs locaux et que l’Etat aussi ait un revenu pour le développement du pays. [ Cliquez ici pour lire l’intégralité ]\n",
       "Haoua Touré\n",
       "\n"
      ]
     },
     "execution_count": 200,
     "metadata": {},
     "output_type": "execute_result"
    }
   ],
   "source": [
    "# Checking our artcles aand score\n",
    "\n",
    "Articles[0]"
   ]
  },
  {
   "cell_type": "code",
   "execution_count": 201,
   "id": "0f6d1781",
   "metadata": {},
   "outputs": [
    {
     "data": {
      "text/plain": [
       "150"
      ]
     },
     "execution_count": 201,
     "metadata": {},
     "output_type": "execute_result"
    }
   ],
   "source": [
    "len(Articles)"
   ]
  },
  {
   "cell_type": "code",
   "execution_count": 202,
   "id": "99f327cd",
   "metadata": {},
   "outputs": [
    {
     "data": {
      "text/plain": [
       "'positive'"
      ]
     },
     "execution_count": 202,
     "metadata": {},
     "output_type": "execute_result"
    }
   ],
   "source": [
    "Articles_Sentiments[0]"
   ]
  },
  {
   "cell_type": "code",
   "execution_count": 203,
   "id": "fb56cfdc",
   "metadata": {},
   "outputs": [],
   "source": [
    "# Creating dataframe which will take Artcles and its sentiment\n",
    "import pandas as pd\n",
    "df = pd.DataFrame()"
   ]
  },
  {
   "cell_type": "code",
   "execution_count": 204,
   "id": "d9dafa7b",
   "metadata": {},
   "outputs": [],
   "source": [
    "df['Articles'] = Articles"
   ]
  },
  {
   "cell_type": "code",
   "execution_count": 205,
   "id": "f409ea83",
   "metadata": {},
   "outputs": [
    {
     "data": {
      "text/html": [
       "<div>\n",
       "<style scoped>\n",
       "    .dataframe tbody tr th:only-of-type {\n",
       "        vertical-align: middle;\n",
       "    }\n",
       "\n",
       "    .dataframe tbody tr th {\n",
       "        vertical-align: top;\n",
       "    }\n",
       "\n",
       "    .dataframe thead th {\n",
       "        text-align: right;\n",
       "    }\n",
       "</style>\n",
       "<table border=\"1\" class=\"dataframe\">\n",
       "  <thead>\n",
       "    <tr style=\"text-align: right;\">\n",
       "      <th></th>\n",
       "      <th>Articles</th>\n",
       "    </tr>\n",
       "  </thead>\n",
       "  <tbody>\n",
       "    <tr>\n",
       "      <th>0</th>\n",
       "      <td>(Biens, et, services, miniers, au, Burkina, :,...</td>\n",
       "    </tr>\n",
       "    <tr>\n",
       "      <th>1</th>\n",
       "      <td>(Biens, et, services, miniers, au, Burkina, :,...</td>\n",
       "    </tr>\n",
       "    <tr>\n",
       "      <th>2</th>\n",
       "      <td>(Biens, et, services, miniers, au, Burkina, :,...</td>\n",
       "    </tr>\n",
       "    <tr>\n",
       "      <th>3</th>\n",
       "      <td>(Burkina, /, Gestion, du, fonds, minier, dans,...</td>\n",
       "    </tr>\n",
       "    <tr>\n",
       "      <th>4</th>\n",
       "      <td>(Burkina, /, Gestion, du, fonds, minier, dans,...</td>\n",
       "    </tr>\n",
       "  </tbody>\n",
       "</table>\n",
       "</div>"
      ],
      "text/plain": [
       "                                            Articles\n",
       "0  (Biens, et, services, miniers, au, Burkina, :,...\n",
       "1  (Biens, et, services, miniers, au, Burkina, :,...\n",
       "2  (Biens, et, services, miniers, au, Burkina, :,...\n",
       "3  (Burkina, /, Gestion, du, fonds, minier, dans,...\n",
       "4  (Burkina, /, Gestion, du, fonds, minier, dans,..."
      ]
     },
     "execution_count": 205,
     "metadata": {},
     "output_type": "execute_result"
    }
   ],
   "source": [
    "df.head()"
   ]
  },
  {
   "cell_type": "code",
   "execution_count": 206,
   "id": "d6cc1813",
   "metadata": {},
   "outputs": [],
   "source": [
    "df['Sentiments'] = Articles_Sentiments"
   ]
  },
  {
   "cell_type": "code",
   "execution_count": 207,
   "id": "d4b19de8",
   "metadata": {},
   "outputs": [
    {
     "data": {
      "text/html": [
       "<div>\n",
       "<style scoped>\n",
       "    .dataframe tbody tr th:only-of-type {\n",
       "        vertical-align: middle;\n",
       "    }\n",
       "\n",
       "    .dataframe tbody tr th {\n",
       "        vertical-align: top;\n",
       "    }\n",
       "\n",
       "    .dataframe thead th {\n",
       "        text-align: right;\n",
       "    }\n",
       "</style>\n",
       "<table border=\"1\" class=\"dataframe\">\n",
       "  <thead>\n",
       "    <tr style=\"text-align: right;\">\n",
       "      <th></th>\n",
       "      <th>Articles</th>\n",
       "      <th>Sentiments</th>\n",
       "    </tr>\n",
       "  </thead>\n",
       "  <tbody>\n",
       "    <tr>\n",
       "      <th>0</th>\n",
       "      <td>(Biens, et, services, miniers, au, Burkina, :,...</td>\n",
       "      <td>positive</td>\n",
       "    </tr>\n",
       "    <tr>\n",
       "      <th>1</th>\n",
       "      <td>(Biens, et, services, miniers, au, Burkina, :,...</td>\n",
       "      <td>positive</td>\n",
       "    </tr>\n",
       "    <tr>\n",
       "      <th>2</th>\n",
       "      <td>(Biens, et, services, miniers, au, Burkina, :,...</td>\n",
       "      <td>positive</td>\n",
       "    </tr>\n",
       "    <tr>\n",
       "      <th>3</th>\n",
       "      <td>(Burkina, /, Gestion, du, fonds, minier, dans,...</td>\n",
       "      <td>positive</td>\n",
       "    </tr>\n",
       "    <tr>\n",
       "      <th>4</th>\n",
       "      <td>(Burkina, /, Gestion, du, fonds, minier, dans,...</td>\n",
       "      <td>positive</td>\n",
       "    </tr>\n",
       "  </tbody>\n",
       "</table>\n",
       "</div>"
      ],
      "text/plain": [
       "                                            Articles Sentiments\n",
       "0  (Biens, et, services, miniers, au, Burkina, :,...   positive\n",
       "1  (Biens, et, services, miniers, au, Burkina, :,...   positive\n",
       "2  (Biens, et, services, miniers, au, Burkina, :,...   positive\n",
       "3  (Burkina, /, Gestion, du, fonds, minier, dans,...   positive\n",
       "4  (Burkina, /, Gestion, du, fonds, minier, dans,...   positive"
      ]
     },
     "execution_count": 207,
     "metadata": {},
     "output_type": "execute_result"
    }
   ],
   "source": [
    "df.head()"
   ]
  },
  {
   "cell_type": "code",
   "execution_count": 208,
   "id": "80a05f8d",
   "metadata": {},
   "outputs": [
    {
     "data": {
      "text/plain": [
       "positive    96\n",
       "neutral     31\n",
       "negative    23\n",
       "Name: Sentiments, dtype: int64"
      ]
     },
     "execution_count": 208,
     "metadata": {},
     "output_type": "execute_result"
    }
   ],
   "source": [
    "df.Sentiments.value_counts()"
   ]
  },
  {
   "cell_type": "markdown",
   "id": "e1eedc29",
   "metadata": {},
   "source": [
    "# Balancing the dataset "
   ]
  },
  {
   "cell_type": "code",
   "execution_count": 209,
   "id": "29c3d7fc",
   "metadata": {},
   "outputs": [],
   "source": [
    "#Balancing the dataset\n",
    "\n",
    "# Get the class labels\n",
    "labels = df['Sentiments'].unique()\n",
    "\n",
    "# Find the maximum number of samples for any class\n",
    "max_samples = df['Sentiments'].value_counts().max()\n",
    "\n",
    "# Create an empty DataFrame to hold the balanced data\n",
    "balanced_df = pd.DataFrame()\n",
    "\n",
    "# For each class, sample the data to have the same number of samples as the class with the maximum number of samples\n",
    "for label in labels:\n",
    "    class_df = df[df['Sentiments'] == label]\n",
    "    num_samples = len(class_df)\n",
    "    if num_samples < max_samples:\n",
    "        # If the class has fewer samples than the maximum, sample with replacement to match the maximum\n",
    "        sample_df = class_df.sample(n=max_samples, replace=True)\n",
    "    else:\n",
    "        # Otherwise, just sample the maximum number of samples without replacement\n",
    "        sample_df = class_df.sample(n=max_samples)\n",
    "    balanced_df = pd.concat([balanced_df, sample_df])\n",
    "\n",
    "# Shuffle the balanced data\n",
    "balanced_df = balanced_df.sample(frac=1).reset_index(drop=True)"
   ]
  },
  {
   "cell_type": "code",
   "execution_count": 210,
   "id": "d76e14e5",
   "metadata": {},
   "outputs": [
    {
     "data": {
      "text/html": [
       "<div>\n",
       "<style scoped>\n",
       "    .dataframe tbody tr th:only-of-type {\n",
       "        vertical-align: middle;\n",
       "    }\n",
       "\n",
       "    .dataframe tbody tr th {\n",
       "        vertical-align: top;\n",
       "    }\n",
       "\n",
       "    .dataframe thead th {\n",
       "        text-align: right;\n",
       "    }\n",
       "</style>\n",
       "<table border=\"1\" class=\"dataframe\">\n",
       "  <thead>\n",
       "    <tr style=\"text-align: right;\">\n",
       "      <th></th>\n",
       "      <th>Articles</th>\n",
       "      <th>Sentiments</th>\n",
       "    </tr>\n",
       "  </thead>\n",
       "  <tbody>\n",
       "    <tr>\n",
       "      <th>0</th>\n",
       "      <td>(Commerce, de, l’, or, :, Burkina, gold, tradi...</td>\n",
       "      <td>neutral</td>\n",
       "    </tr>\n",
       "    <tr>\n",
       "      <th>1</th>\n",
       "      <td>(Perkoa, /, Burkina, :, Une, commission, d’, e...</td>\n",
       "      <td>positive</td>\n",
       "    </tr>\n",
       "    <tr>\n",
       "      <th>2</th>\n",
       "      <td>(Rétrospective, de, l’, actualité, minière, en...</td>\n",
       "      <td>positive</td>\n",
       "    </tr>\n",
       "    <tr>\n",
       "      <th>3</th>\n",
       "      <td>(Secteur, minier, au, Burkina, :, Ce, qu’, il,...</td>\n",
       "      <td>negative</td>\n",
       "    </tr>\n",
       "    <tr>\n",
       "      <th>4</th>\n",
       "      <td>(Mine, de, Perkoa, :, Quatre, corps, retrouvés...</td>\n",
       "      <td>negative</td>\n",
       "    </tr>\n",
       "  </tbody>\n",
       "</table>\n",
       "</div>"
      ],
      "text/plain": [
       "                                            Articles Sentiments\n",
       "0  (Commerce, de, l’, or, :, Burkina, gold, tradi...    neutral\n",
       "1  (Perkoa, /, Burkina, :, Une, commission, d’, e...   positive\n",
       "2  (Rétrospective, de, l’, actualité, minière, en...   positive\n",
       "3  (Secteur, minier, au, Burkina, :, Ce, qu’, il,...   negative\n",
       "4  (Mine, de, Perkoa, :, Quatre, corps, retrouvés...   negative"
      ]
     },
     "execution_count": 210,
     "metadata": {},
     "output_type": "execute_result"
    }
   ],
   "source": [
    "balanced_df.head()"
   ]
  },
  {
   "cell_type": "code",
   "execution_count": 211,
   "id": "01433699",
   "metadata": {},
   "outputs": [
    {
     "data": {
      "text/plain": [
       "neutral     96\n",
       "positive    96\n",
       "negative    96\n",
       "Name: Sentiments, dtype: int64"
      ]
     },
     "execution_count": 211,
     "metadata": {},
     "output_type": "execute_result"
    }
   ],
   "source": [
    "balanced_df.Sentiments.value_counts()"
   ]
  },
  {
   "cell_type": "code",
   "execution_count": 212,
   "id": "9d680f78",
   "metadata": {},
   "outputs": [],
   "source": [
    "# Now our dataset is balanced"
   ]
  },
  {
   "cell_type": "code",
   "execution_count": 213,
   "id": "e9ec68e9",
   "metadata": {},
   "outputs": [],
   "source": [
    "# Splitting our dataset into Training and testing "
   ]
  },
  {
   "cell_type": "code",
   "execution_count": 214,
   "id": "ffbd0a38",
   "metadata": {},
   "outputs": [],
   "source": [
    "import sklearn\n",
    "from sklearn.model_selection import train_test_split\n",
    "\n",
    "X_train, X_test, y_train, y_test = train_test_split(balanced_df.Articles\n",
    "                                                    , balanced_df.Sentiments, test_size=0.2, random_state=0)"
   ]
  },
  {
   "cell_type": "code",
   "execution_count": 215,
   "id": "d7fc4a23",
   "metadata": {},
   "outputs": [
    {
     "data": {
      "text/plain": [
       "230"
      ]
     },
     "execution_count": 215,
     "metadata": {},
     "output_type": "execute_result"
    }
   ],
   "source": [
    "len(X_train)"
   ]
  },
  {
   "cell_type": "code",
   "execution_count": 216,
   "id": "53815fd7",
   "metadata": {},
   "outputs": [
    {
     "data": {
      "text/plain": [
       "58"
      ]
     },
     "execution_count": 216,
     "metadata": {},
     "output_type": "execute_result"
    }
   ],
   "source": [
    "len(X_test)"
   ]
  },
  {
   "cell_type": "code",
   "execution_count": 217,
   "id": "db72a4e8",
   "metadata": {},
   "outputs": [
    {
     "data": {
      "text/plain": [
       "230"
      ]
     },
     "execution_count": 217,
     "metadata": {},
     "output_type": "execute_result"
    }
   ],
   "source": [
    "len(y_train)"
   ]
  },
  {
   "cell_type": "code",
   "execution_count": null,
   "id": "6869fba6",
   "metadata": {},
   "outputs": [],
   "source": []
  },
  {
   "cell_type": "markdown",
   "id": "62575228",
   "metadata": {},
   "source": [
    "# Training model withour preprocessing column"
   ]
  },
  {
   "cell_type": "code",
   "execution_count": 226,
   "id": "3255be0d",
   "metadata": {},
   "outputs": [],
   "source": [
    "# Custom preprocessor function to lowercase the text\n",
    "def custom_preprocessor(text):\n",
    "    if isinstance(text, spacy.tokens.Doc):\n",
    "        return ' '.join([token.lower_ for token in text])\n",
    "    else:\n",
    "        return text.lower()"
   ]
  },
  {
   "cell_type": "code",
   "execution_count": 227,
   "id": "67f1ed29",
   "metadata": {},
   "outputs": [],
   "source": [
    "# Usiing MultinomialNB and CountVectorizer for the model"
   ]
  },
  {
   "cell_type": "code",
   "execution_count": 228,
   "id": "1d0a0256",
   "metadata": {},
   "outputs": [],
   "source": [
    "from sklearn.naive_bayes import MultinomialNB\n",
    "from sklearn.pipeline import Pipeline\n",
    "from sklearn.feature_extraction.text import CountVectorizer\n",
    "\n",
    "\n",
    "pl_nb = Pipeline([\n",
    "    ('vectorizer', CountVectorizer(preprocessor=custom_preprocessor)),\n",
    "    ('nb', MultinomialNB()) \n",
    "])"
   ]
  },
  {
   "cell_type": "code",
   "execution_count": 229,
   "id": "906ab23b",
   "metadata": {
    "scrolled": true
   },
   "outputs": [
    {
     "data": {
      "text/html": [
       "<style>#sk-container-id-1 {color: black;background-color: white;}#sk-container-id-1 pre{padding: 0;}#sk-container-id-1 div.sk-toggleable {background-color: white;}#sk-container-id-1 label.sk-toggleable__label {cursor: pointer;display: block;width: 100%;margin-bottom: 0;padding: 0.3em;box-sizing: border-box;text-align: center;}#sk-container-id-1 label.sk-toggleable__label-arrow:before {content: \"▸\";float: left;margin-right: 0.25em;color: #696969;}#sk-container-id-1 label.sk-toggleable__label-arrow:hover:before {color: black;}#sk-container-id-1 div.sk-estimator:hover label.sk-toggleable__label-arrow:before {color: black;}#sk-container-id-1 div.sk-toggleable__content {max-height: 0;max-width: 0;overflow: hidden;text-align: left;background-color: #f0f8ff;}#sk-container-id-1 div.sk-toggleable__content pre {margin: 0.2em;color: black;border-radius: 0.25em;background-color: #f0f8ff;}#sk-container-id-1 input.sk-toggleable__control:checked~div.sk-toggleable__content {max-height: 200px;max-width: 100%;overflow: auto;}#sk-container-id-1 input.sk-toggleable__control:checked~label.sk-toggleable__label-arrow:before {content: \"▾\";}#sk-container-id-1 div.sk-estimator input.sk-toggleable__control:checked~label.sk-toggleable__label {background-color: #d4ebff;}#sk-container-id-1 div.sk-label input.sk-toggleable__control:checked~label.sk-toggleable__label {background-color: #d4ebff;}#sk-container-id-1 input.sk-hidden--visually {border: 0;clip: rect(1px 1px 1px 1px);clip: rect(1px, 1px, 1px, 1px);height: 1px;margin: -1px;overflow: hidden;padding: 0;position: absolute;width: 1px;}#sk-container-id-1 div.sk-estimator {font-family: monospace;background-color: #f0f8ff;border: 1px dotted black;border-radius: 0.25em;box-sizing: border-box;margin-bottom: 0.5em;}#sk-container-id-1 div.sk-estimator:hover {background-color: #d4ebff;}#sk-container-id-1 div.sk-parallel-item::after {content: \"\";width: 100%;border-bottom: 1px solid gray;flex-grow: 1;}#sk-container-id-1 div.sk-label:hover label.sk-toggleable__label {background-color: #d4ebff;}#sk-container-id-1 div.sk-serial::before {content: \"\";position: absolute;border-left: 1px solid gray;box-sizing: border-box;top: 0;bottom: 0;left: 50%;z-index: 0;}#sk-container-id-1 div.sk-serial {display: flex;flex-direction: column;align-items: center;background-color: white;padding-right: 0.2em;padding-left: 0.2em;position: relative;}#sk-container-id-1 div.sk-item {position: relative;z-index: 1;}#sk-container-id-1 div.sk-parallel {display: flex;align-items: stretch;justify-content: center;background-color: white;position: relative;}#sk-container-id-1 div.sk-item::before, #sk-container-id-1 div.sk-parallel-item::before {content: \"\";position: absolute;border-left: 1px solid gray;box-sizing: border-box;top: 0;bottom: 0;left: 50%;z-index: -1;}#sk-container-id-1 div.sk-parallel-item {display: flex;flex-direction: column;z-index: 1;position: relative;background-color: white;}#sk-container-id-1 div.sk-parallel-item:first-child::after {align-self: flex-end;width: 50%;}#sk-container-id-1 div.sk-parallel-item:last-child::after {align-self: flex-start;width: 50%;}#sk-container-id-1 div.sk-parallel-item:only-child::after {width: 0;}#sk-container-id-1 div.sk-dashed-wrapped {border: 1px dashed gray;margin: 0 0.4em 0.5em 0.4em;box-sizing: border-box;padding-bottom: 0.4em;background-color: white;}#sk-container-id-1 div.sk-label label {font-family: monospace;font-weight: bold;display: inline-block;line-height: 1.2em;}#sk-container-id-1 div.sk-label-container {text-align: center;}#sk-container-id-1 div.sk-container {/* jupyter's `normalize.less` sets `[hidden] { display: none; }` but bootstrap.min.css set `[hidden] { display: none !important; }` so we also need the `!important` here to be able to override the default hidden behavior on the sphinx rendered scikit-learn.org. See: https://github.com/scikit-learn/scikit-learn/issues/21755 */display: inline-block !important;position: relative;}#sk-container-id-1 div.sk-text-repr-fallback {display: none;}</style><div id=\"sk-container-id-1\" class=\"sk-top-container\"><div class=\"sk-text-repr-fallback\"><pre>Pipeline(steps=[(&#x27;vectorizer&#x27;,\n",
       "                 CountVectorizer(preprocessor=&lt;function custom_preprocessor at 0x0000027ED0A5B4C0&gt;)),\n",
       "                (&#x27;nb&#x27;, MultinomialNB())])</pre><b>In a Jupyter environment, please rerun this cell to show the HTML representation or trust the notebook. <br />On GitHub, the HTML representation is unable to render, please try loading this page with nbviewer.org.</b></div><div class=\"sk-container\" hidden><div class=\"sk-item sk-dashed-wrapped\"><div class=\"sk-label-container\"><div class=\"sk-label sk-toggleable\"><input class=\"sk-toggleable__control sk-hidden--visually\" id=\"sk-estimator-id-1\" type=\"checkbox\" ><label for=\"sk-estimator-id-1\" class=\"sk-toggleable__label sk-toggleable__label-arrow\">Pipeline</label><div class=\"sk-toggleable__content\"><pre>Pipeline(steps=[(&#x27;vectorizer&#x27;,\n",
       "                 CountVectorizer(preprocessor=&lt;function custom_preprocessor at 0x0000027ED0A5B4C0&gt;)),\n",
       "                (&#x27;nb&#x27;, MultinomialNB())])</pre></div></div></div><div class=\"sk-serial\"><div class=\"sk-item\"><div class=\"sk-estimator sk-toggleable\"><input class=\"sk-toggleable__control sk-hidden--visually\" id=\"sk-estimator-id-2\" type=\"checkbox\" ><label for=\"sk-estimator-id-2\" class=\"sk-toggleable__label sk-toggleable__label-arrow\">CountVectorizer</label><div class=\"sk-toggleable__content\"><pre>CountVectorizer(preprocessor=&lt;function custom_preprocessor at 0x0000027ED0A5B4C0&gt;)</pre></div></div></div><div class=\"sk-item\"><div class=\"sk-estimator sk-toggleable\"><input class=\"sk-toggleable__control sk-hidden--visually\" id=\"sk-estimator-id-3\" type=\"checkbox\" ><label for=\"sk-estimator-id-3\" class=\"sk-toggleable__label sk-toggleable__label-arrow\">MultinomialNB</label><div class=\"sk-toggleable__content\"><pre>MultinomialNB()</pre></div></div></div></div></div></div></div>"
      ],
      "text/plain": [
       "Pipeline(steps=[('vectorizer',\n",
       "                 CountVectorizer(preprocessor=<function custom_preprocessor at 0x0000027ED0A5B4C0>)),\n",
       "                ('nb', MultinomialNB())])"
      ]
     },
     "execution_count": 229,
     "metadata": {},
     "output_type": "execute_result"
    }
   ],
   "source": [
    "pl_nb.fit(X_train, y_train)"
   ]
  },
  {
   "cell_type": "code",
   "execution_count": 230,
   "id": "4f190728",
   "metadata": {},
   "outputs": [
    {
     "name": "stdout",
     "output_type": "stream",
     "text": [
      "              precision    recall  f1-score   support\n",
      "\n",
      "    negative       1.00      1.00      1.00        18\n",
      "     neutral       1.00      1.00      1.00        19\n",
      "    positive       1.00      1.00      1.00        21\n",
      "\n",
      "    accuracy                           1.00        58\n",
      "   macro avg       1.00      1.00      1.00        58\n",
      "weighted avg       1.00      1.00      1.00        58\n",
      "\n"
     ]
    }
   ],
   "source": [
    "from sklearn.metrics import classification_report\n",
    "\n",
    "y_pred_nb = pl_nb.predict(X_test)\n",
    "\n",
    "print(classification_report(y_test, y_pred_nb))"
   ]
  },
  {
   "cell_type": "code",
   "execution_count": null,
   "id": "50140293",
   "metadata": {},
   "outputs": [],
   "source": []
  },
  {
   "cell_type": "code",
   "execution_count": null,
   "id": "92536e20",
   "metadata": {},
   "outputs": [],
   "source": []
  },
  {
   "cell_type": "code",
   "execution_count": 240,
   "id": "64ce97d3",
   "metadata": {},
   "outputs": [],
   "source": [
    "# Using TF-idf with KNN"
   ]
  },
  {
   "cell_type": "code",
   "execution_count": 231,
   "id": "cdb2a26c",
   "metadata": {},
   "outputs": [],
   "source": [
    "from sklearn.feature_extraction.text import TfidfVectorizer\n",
    "from sklearn.naive_bayes import MultinomialNB\n",
    "from sklearn.neighbors import KNeighborsClassifier\n",
    "from sklearn.pipeline import Pipeline\n",
    "from sklearn.metrics import classification_report\n",
    "\n",
    "pl_knn = Pipeline([\n",
    "    ('tf_idf_vectorizer', TfidfVectorizer(preprocessor=custom_preprocessor)),\n",
    "    ('knn', KNeighborsClassifier())\n",
    "])\n"
   ]
  },
  {
   "cell_type": "code",
   "execution_count": 232,
   "id": "55c4f6eb",
   "metadata": {},
   "outputs": [
    {
     "data": {
      "text/html": [
       "<style>#sk-container-id-2 {color: black;background-color: white;}#sk-container-id-2 pre{padding: 0;}#sk-container-id-2 div.sk-toggleable {background-color: white;}#sk-container-id-2 label.sk-toggleable__label {cursor: pointer;display: block;width: 100%;margin-bottom: 0;padding: 0.3em;box-sizing: border-box;text-align: center;}#sk-container-id-2 label.sk-toggleable__label-arrow:before {content: \"▸\";float: left;margin-right: 0.25em;color: #696969;}#sk-container-id-2 label.sk-toggleable__label-arrow:hover:before {color: black;}#sk-container-id-2 div.sk-estimator:hover label.sk-toggleable__label-arrow:before {color: black;}#sk-container-id-2 div.sk-toggleable__content {max-height: 0;max-width: 0;overflow: hidden;text-align: left;background-color: #f0f8ff;}#sk-container-id-2 div.sk-toggleable__content pre {margin: 0.2em;color: black;border-radius: 0.25em;background-color: #f0f8ff;}#sk-container-id-2 input.sk-toggleable__control:checked~div.sk-toggleable__content {max-height: 200px;max-width: 100%;overflow: auto;}#sk-container-id-2 input.sk-toggleable__control:checked~label.sk-toggleable__label-arrow:before {content: \"▾\";}#sk-container-id-2 div.sk-estimator input.sk-toggleable__control:checked~label.sk-toggleable__label {background-color: #d4ebff;}#sk-container-id-2 div.sk-label input.sk-toggleable__control:checked~label.sk-toggleable__label {background-color: #d4ebff;}#sk-container-id-2 input.sk-hidden--visually {border: 0;clip: rect(1px 1px 1px 1px);clip: rect(1px, 1px, 1px, 1px);height: 1px;margin: -1px;overflow: hidden;padding: 0;position: absolute;width: 1px;}#sk-container-id-2 div.sk-estimator {font-family: monospace;background-color: #f0f8ff;border: 1px dotted black;border-radius: 0.25em;box-sizing: border-box;margin-bottom: 0.5em;}#sk-container-id-2 div.sk-estimator:hover {background-color: #d4ebff;}#sk-container-id-2 div.sk-parallel-item::after {content: \"\";width: 100%;border-bottom: 1px solid gray;flex-grow: 1;}#sk-container-id-2 div.sk-label:hover label.sk-toggleable__label {background-color: #d4ebff;}#sk-container-id-2 div.sk-serial::before {content: \"\";position: absolute;border-left: 1px solid gray;box-sizing: border-box;top: 0;bottom: 0;left: 50%;z-index: 0;}#sk-container-id-2 div.sk-serial {display: flex;flex-direction: column;align-items: center;background-color: white;padding-right: 0.2em;padding-left: 0.2em;position: relative;}#sk-container-id-2 div.sk-item {position: relative;z-index: 1;}#sk-container-id-2 div.sk-parallel {display: flex;align-items: stretch;justify-content: center;background-color: white;position: relative;}#sk-container-id-2 div.sk-item::before, #sk-container-id-2 div.sk-parallel-item::before {content: \"\";position: absolute;border-left: 1px solid gray;box-sizing: border-box;top: 0;bottom: 0;left: 50%;z-index: -1;}#sk-container-id-2 div.sk-parallel-item {display: flex;flex-direction: column;z-index: 1;position: relative;background-color: white;}#sk-container-id-2 div.sk-parallel-item:first-child::after {align-self: flex-end;width: 50%;}#sk-container-id-2 div.sk-parallel-item:last-child::after {align-self: flex-start;width: 50%;}#sk-container-id-2 div.sk-parallel-item:only-child::after {width: 0;}#sk-container-id-2 div.sk-dashed-wrapped {border: 1px dashed gray;margin: 0 0.4em 0.5em 0.4em;box-sizing: border-box;padding-bottom: 0.4em;background-color: white;}#sk-container-id-2 div.sk-label label {font-family: monospace;font-weight: bold;display: inline-block;line-height: 1.2em;}#sk-container-id-2 div.sk-label-container {text-align: center;}#sk-container-id-2 div.sk-container {/* jupyter's `normalize.less` sets `[hidden] { display: none; }` but bootstrap.min.css set `[hidden] { display: none !important; }` so we also need the `!important` here to be able to override the default hidden behavior on the sphinx rendered scikit-learn.org. See: https://github.com/scikit-learn/scikit-learn/issues/21755 */display: inline-block !important;position: relative;}#sk-container-id-2 div.sk-text-repr-fallback {display: none;}</style><div id=\"sk-container-id-2\" class=\"sk-top-container\"><div class=\"sk-text-repr-fallback\"><pre>Pipeline(steps=[(&#x27;tf_idf_vectorizer&#x27;,\n",
       "                 TfidfVectorizer(preprocessor=&lt;function custom_preprocessor at 0x0000027ED0A5B4C0&gt;)),\n",
       "                (&#x27;knn&#x27;, KNeighborsClassifier())])</pre><b>In a Jupyter environment, please rerun this cell to show the HTML representation or trust the notebook. <br />On GitHub, the HTML representation is unable to render, please try loading this page with nbviewer.org.</b></div><div class=\"sk-container\" hidden><div class=\"sk-item sk-dashed-wrapped\"><div class=\"sk-label-container\"><div class=\"sk-label sk-toggleable\"><input class=\"sk-toggleable__control sk-hidden--visually\" id=\"sk-estimator-id-4\" type=\"checkbox\" ><label for=\"sk-estimator-id-4\" class=\"sk-toggleable__label sk-toggleable__label-arrow\">Pipeline</label><div class=\"sk-toggleable__content\"><pre>Pipeline(steps=[(&#x27;tf_idf_vectorizer&#x27;,\n",
       "                 TfidfVectorizer(preprocessor=&lt;function custom_preprocessor at 0x0000027ED0A5B4C0&gt;)),\n",
       "                (&#x27;knn&#x27;, KNeighborsClassifier())])</pre></div></div></div><div class=\"sk-serial\"><div class=\"sk-item\"><div class=\"sk-estimator sk-toggleable\"><input class=\"sk-toggleable__control sk-hidden--visually\" id=\"sk-estimator-id-5\" type=\"checkbox\" ><label for=\"sk-estimator-id-5\" class=\"sk-toggleable__label sk-toggleable__label-arrow\">TfidfVectorizer</label><div class=\"sk-toggleable__content\"><pre>TfidfVectorizer(preprocessor=&lt;function custom_preprocessor at 0x0000027ED0A5B4C0&gt;)</pre></div></div></div><div class=\"sk-item\"><div class=\"sk-estimator sk-toggleable\"><input class=\"sk-toggleable__control sk-hidden--visually\" id=\"sk-estimator-id-6\" type=\"checkbox\" ><label for=\"sk-estimator-id-6\" class=\"sk-toggleable__label sk-toggleable__label-arrow\">KNeighborsClassifier</label><div class=\"sk-toggleable__content\"><pre>KNeighborsClassifier()</pre></div></div></div></div></div></div></div>"
      ],
      "text/plain": [
       "Pipeline(steps=[('tf_idf_vectorizer',\n",
       "                 TfidfVectorizer(preprocessor=<function custom_preprocessor at 0x0000027ED0A5B4C0>)),\n",
       "                ('knn', KNeighborsClassifier())])"
      ]
     },
     "execution_count": 232,
     "metadata": {},
     "output_type": "execute_result"
    }
   ],
   "source": [
    "pl_knn.fit(X_train, y_train)"
   ]
  },
  {
   "cell_type": "code",
   "execution_count": 233,
   "id": "a0ab7d44",
   "metadata": {},
   "outputs": [
    {
     "name": "stdout",
     "output_type": "stream",
     "text": [
      "              precision    recall  f1-score   support\n",
      "\n",
      "    negative       1.00      1.00      1.00        18\n",
      "     neutral       0.75      0.95      0.84        19\n",
      "    positive       0.94      0.71      0.81        21\n",
      "\n",
      "    accuracy                           0.88        58\n",
      "   macro avg       0.90      0.89      0.88        58\n",
      "weighted avg       0.90      0.88      0.88        58\n",
      "\n"
     ]
    }
   ],
   "source": [
    "y_pred = pl_knn.predict(X_test)\n",
    "\n",
    "print(classification_report(y_test, y_pred))"
   ]
  },
  {
   "cell_type": "code",
   "execution_count": null,
   "id": "54c0fb73",
   "metadata": {},
   "outputs": [],
   "source": []
  },
  {
   "cell_type": "code",
   "execution_count": null,
   "id": "dc0ebb22",
   "metadata": {},
   "outputs": [],
   "source": [
    "# Using Multi_nb with tf-idf"
   ]
  },
  {
   "cell_type": "code",
   "execution_count": 235,
   "id": "7f70b13b",
   "metadata": {},
   "outputs": [
    {
     "data": {
      "text/html": [
       "<style>#sk-container-id-4 {color: black;background-color: white;}#sk-container-id-4 pre{padding: 0;}#sk-container-id-4 div.sk-toggleable {background-color: white;}#sk-container-id-4 label.sk-toggleable__label {cursor: pointer;display: block;width: 100%;margin-bottom: 0;padding: 0.3em;box-sizing: border-box;text-align: center;}#sk-container-id-4 label.sk-toggleable__label-arrow:before {content: \"▸\";float: left;margin-right: 0.25em;color: #696969;}#sk-container-id-4 label.sk-toggleable__label-arrow:hover:before {color: black;}#sk-container-id-4 div.sk-estimator:hover label.sk-toggleable__label-arrow:before {color: black;}#sk-container-id-4 div.sk-toggleable__content {max-height: 0;max-width: 0;overflow: hidden;text-align: left;background-color: #f0f8ff;}#sk-container-id-4 div.sk-toggleable__content pre {margin: 0.2em;color: black;border-radius: 0.25em;background-color: #f0f8ff;}#sk-container-id-4 input.sk-toggleable__control:checked~div.sk-toggleable__content {max-height: 200px;max-width: 100%;overflow: auto;}#sk-container-id-4 input.sk-toggleable__control:checked~label.sk-toggleable__label-arrow:before {content: \"▾\";}#sk-container-id-4 div.sk-estimator input.sk-toggleable__control:checked~label.sk-toggleable__label {background-color: #d4ebff;}#sk-container-id-4 div.sk-label input.sk-toggleable__control:checked~label.sk-toggleable__label {background-color: #d4ebff;}#sk-container-id-4 input.sk-hidden--visually {border: 0;clip: rect(1px 1px 1px 1px);clip: rect(1px, 1px, 1px, 1px);height: 1px;margin: -1px;overflow: hidden;padding: 0;position: absolute;width: 1px;}#sk-container-id-4 div.sk-estimator {font-family: monospace;background-color: #f0f8ff;border: 1px dotted black;border-radius: 0.25em;box-sizing: border-box;margin-bottom: 0.5em;}#sk-container-id-4 div.sk-estimator:hover {background-color: #d4ebff;}#sk-container-id-4 div.sk-parallel-item::after {content: \"\";width: 100%;border-bottom: 1px solid gray;flex-grow: 1;}#sk-container-id-4 div.sk-label:hover label.sk-toggleable__label {background-color: #d4ebff;}#sk-container-id-4 div.sk-serial::before {content: \"\";position: absolute;border-left: 1px solid gray;box-sizing: border-box;top: 0;bottom: 0;left: 50%;z-index: 0;}#sk-container-id-4 div.sk-serial {display: flex;flex-direction: column;align-items: center;background-color: white;padding-right: 0.2em;padding-left: 0.2em;position: relative;}#sk-container-id-4 div.sk-item {position: relative;z-index: 1;}#sk-container-id-4 div.sk-parallel {display: flex;align-items: stretch;justify-content: center;background-color: white;position: relative;}#sk-container-id-4 div.sk-item::before, #sk-container-id-4 div.sk-parallel-item::before {content: \"\";position: absolute;border-left: 1px solid gray;box-sizing: border-box;top: 0;bottom: 0;left: 50%;z-index: -1;}#sk-container-id-4 div.sk-parallel-item {display: flex;flex-direction: column;z-index: 1;position: relative;background-color: white;}#sk-container-id-4 div.sk-parallel-item:first-child::after {align-self: flex-end;width: 50%;}#sk-container-id-4 div.sk-parallel-item:last-child::after {align-self: flex-start;width: 50%;}#sk-container-id-4 div.sk-parallel-item:only-child::after {width: 0;}#sk-container-id-4 div.sk-dashed-wrapped {border: 1px dashed gray;margin: 0 0.4em 0.5em 0.4em;box-sizing: border-box;padding-bottom: 0.4em;background-color: white;}#sk-container-id-4 div.sk-label label {font-family: monospace;font-weight: bold;display: inline-block;line-height: 1.2em;}#sk-container-id-4 div.sk-label-container {text-align: center;}#sk-container-id-4 div.sk-container {/* jupyter's `normalize.less` sets `[hidden] { display: none; }` but bootstrap.min.css set `[hidden] { display: none !important; }` so we also need the `!important` here to be able to override the default hidden behavior on the sphinx rendered scikit-learn.org. See: https://github.com/scikit-learn/scikit-learn/issues/21755 */display: inline-block !important;position: relative;}#sk-container-id-4 div.sk-text-repr-fallback {display: none;}</style><div id=\"sk-container-id-4\" class=\"sk-top-container\"><div class=\"sk-text-repr-fallback\"><pre>Pipeline(steps=[(&#x27;tf_idf_vectorizer&#x27;,\n",
       "                 TfidfVectorizer(preprocessor=&lt;function custom_preprocessor at 0x0000027ED0A5B4C0&gt;)),\n",
       "                (&#x27;nb&#x27;, MultinomialNB())])</pre><b>In a Jupyter environment, please rerun this cell to show the HTML representation or trust the notebook. <br />On GitHub, the HTML representation is unable to render, please try loading this page with nbviewer.org.</b></div><div class=\"sk-container\" hidden><div class=\"sk-item sk-dashed-wrapped\"><div class=\"sk-label-container\"><div class=\"sk-label sk-toggleable\"><input class=\"sk-toggleable__control sk-hidden--visually\" id=\"sk-estimator-id-10\" type=\"checkbox\" ><label for=\"sk-estimator-id-10\" class=\"sk-toggleable__label sk-toggleable__label-arrow\">Pipeline</label><div class=\"sk-toggleable__content\"><pre>Pipeline(steps=[(&#x27;tf_idf_vectorizer&#x27;,\n",
       "                 TfidfVectorizer(preprocessor=&lt;function custom_preprocessor at 0x0000027ED0A5B4C0&gt;)),\n",
       "                (&#x27;nb&#x27;, MultinomialNB())])</pre></div></div></div><div class=\"sk-serial\"><div class=\"sk-item\"><div class=\"sk-estimator sk-toggleable\"><input class=\"sk-toggleable__control sk-hidden--visually\" id=\"sk-estimator-id-11\" type=\"checkbox\" ><label for=\"sk-estimator-id-11\" class=\"sk-toggleable__label sk-toggleable__label-arrow\">TfidfVectorizer</label><div class=\"sk-toggleable__content\"><pre>TfidfVectorizer(preprocessor=&lt;function custom_preprocessor at 0x0000027ED0A5B4C0&gt;)</pre></div></div></div><div class=\"sk-item\"><div class=\"sk-estimator sk-toggleable\"><input class=\"sk-toggleable__control sk-hidden--visually\" id=\"sk-estimator-id-12\" type=\"checkbox\" ><label for=\"sk-estimator-id-12\" class=\"sk-toggleable__label sk-toggleable__label-arrow\">MultinomialNB</label><div class=\"sk-toggleable__content\"><pre>MultinomialNB()</pre></div></div></div></div></div></div></div>"
      ],
      "text/plain": [
       "Pipeline(steps=[('tf_idf_vectorizer',\n",
       "                 TfidfVectorizer(preprocessor=<function custom_preprocessor at 0x0000027ED0A5B4C0>)),\n",
       "                ('nb', MultinomialNB())])"
      ]
     },
     "execution_count": 235,
     "metadata": {},
     "output_type": "execute_result"
    }
   ],
   "source": [
    "from sklearn.naive_bayes import MultinomialNB\n",
    "\n",
    "pl_nb_tfidf = Pipeline([\n",
    "    ('tf_idf_vectorizer', TfidfVectorizer(preprocessor=custom_preprocessor)),\n",
    "    ('nb', MultinomialNB()) \n",
    "])\n",
    "\n",
    "pl_nb_tfidf.fit(X_train, y_train)"
   ]
  },
  {
   "cell_type": "code",
   "execution_count": 236,
   "id": "39e246de",
   "metadata": {},
   "outputs": [
    {
     "name": "stdout",
     "output_type": "stream",
     "text": [
      "              precision    recall  f1-score   support\n",
      "\n",
      "    negative       0.95      1.00      0.97        18\n",
      "     neutral       0.86      0.95      0.90        19\n",
      "    positive       1.00      0.86      0.92        21\n",
      "\n",
      "    accuracy                           0.93        58\n",
      "   macro avg       0.93      0.93      0.93        58\n",
      "weighted avg       0.94      0.93      0.93        58\n",
      "\n"
     ]
    }
   ],
   "source": [
    "y_pred_nb = pl_nb_tfidf.predict(X_test)\n",
    "\n",
    "print(classification_report(y_test, y_pred_nb))"
   ]
  },
  {
   "cell_type": "code",
   "execution_count": null,
   "id": "d3b2c2c8",
   "metadata": {},
   "outputs": [],
   "source": []
  },
  {
   "cell_type": "code",
   "execution_count": null,
   "id": "c8584cd3",
   "metadata": {},
   "outputs": [],
   "source": [
    "# Using Randomforest with tf-idf"
   ]
  },
  {
   "cell_type": "code",
   "execution_count": 238,
   "id": "dafeefac",
   "metadata": {},
   "outputs": [
    {
     "data": {
      "text/html": [
       "<style>#sk-container-id-5 {color: black;background-color: white;}#sk-container-id-5 pre{padding: 0;}#sk-container-id-5 div.sk-toggleable {background-color: white;}#sk-container-id-5 label.sk-toggleable__label {cursor: pointer;display: block;width: 100%;margin-bottom: 0;padding: 0.3em;box-sizing: border-box;text-align: center;}#sk-container-id-5 label.sk-toggleable__label-arrow:before {content: \"▸\";float: left;margin-right: 0.25em;color: #696969;}#sk-container-id-5 label.sk-toggleable__label-arrow:hover:before {color: black;}#sk-container-id-5 div.sk-estimator:hover label.sk-toggleable__label-arrow:before {color: black;}#sk-container-id-5 div.sk-toggleable__content {max-height: 0;max-width: 0;overflow: hidden;text-align: left;background-color: #f0f8ff;}#sk-container-id-5 div.sk-toggleable__content pre {margin: 0.2em;color: black;border-radius: 0.25em;background-color: #f0f8ff;}#sk-container-id-5 input.sk-toggleable__control:checked~div.sk-toggleable__content {max-height: 200px;max-width: 100%;overflow: auto;}#sk-container-id-5 input.sk-toggleable__control:checked~label.sk-toggleable__label-arrow:before {content: \"▾\";}#sk-container-id-5 div.sk-estimator input.sk-toggleable__control:checked~label.sk-toggleable__label {background-color: #d4ebff;}#sk-container-id-5 div.sk-label input.sk-toggleable__control:checked~label.sk-toggleable__label {background-color: #d4ebff;}#sk-container-id-5 input.sk-hidden--visually {border: 0;clip: rect(1px 1px 1px 1px);clip: rect(1px, 1px, 1px, 1px);height: 1px;margin: -1px;overflow: hidden;padding: 0;position: absolute;width: 1px;}#sk-container-id-5 div.sk-estimator {font-family: monospace;background-color: #f0f8ff;border: 1px dotted black;border-radius: 0.25em;box-sizing: border-box;margin-bottom: 0.5em;}#sk-container-id-5 div.sk-estimator:hover {background-color: #d4ebff;}#sk-container-id-5 div.sk-parallel-item::after {content: \"\";width: 100%;border-bottom: 1px solid gray;flex-grow: 1;}#sk-container-id-5 div.sk-label:hover label.sk-toggleable__label {background-color: #d4ebff;}#sk-container-id-5 div.sk-serial::before {content: \"\";position: absolute;border-left: 1px solid gray;box-sizing: border-box;top: 0;bottom: 0;left: 50%;z-index: 0;}#sk-container-id-5 div.sk-serial {display: flex;flex-direction: column;align-items: center;background-color: white;padding-right: 0.2em;padding-left: 0.2em;position: relative;}#sk-container-id-5 div.sk-item {position: relative;z-index: 1;}#sk-container-id-5 div.sk-parallel {display: flex;align-items: stretch;justify-content: center;background-color: white;position: relative;}#sk-container-id-5 div.sk-item::before, #sk-container-id-5 div.sk-parallel-item::before {content: \"\";position: absolute;border-left: 1px solid gray;box-sizing: border-box;top: 0;bottom: 0;left: 50%;z-index: -1;}#sk-container-id-5 div.sk-parallel-item {display: flex;flex-direction: column;z-index: 1;position: relative;background-color: white;}#sk-container-id-5 div.sk-parallel-item:first-child::after {align-self: flex-end;width: 50%;}#sk-container-id-5 div.sk-parallel-item:last-child::after {align-self: flex-start;width: 50%;}#sk-container-id-5 div.sk-parallel-item:only-child::after {width: 0;}#sk-container-id-5 div.sk-dashed-wrapped {border: 1px dashed gray;margin: 0 0.4em 0.5em 0.4em;box-sizing: border-box;padding-bottom: 0.4em;background-color: white;}#sk-container-id-5 div.sk-label label {font-family: monospace;font-weight: bold;display: inline-block;line-height: 1.2em;}#sk-container-id-5 div.sk-label-container {text-align: center;}#sk-container-id-5 div.sk-container {/* jupyter's `normalize.less` sets `[hidden] { display: none; }` but bootstrap.min.css set `[hidden] { display: none !important; }` so we also need the `!important` here to be able to override the default hidden behavior on the sphinx rendered scikit-learn.org. See: https://github.com/scikit-learn/scikit-learn/issues/21755 */display: inline-block !important;position: relative;}#sk-container-id-5 div.sk-text-repr-fallback {display: none;}</style><div id=\"sk-container-id-5\" class=\"sk-top-container\"><div class=\"sk-text-repr-fallback\"><pre>Pipeline(steps=[(&#x27;tf_idf_vectorizer&#x27;,\n",
       "                 TfidfVectorizer(preprocessor=&lt;function custom_preprocessor at 0x0000027ED0A5B4C0&gt;)),\n",
       "                (&#x27;rf&#x27;,\n",
       "                 RandomForestClassifier(criterion=&#x27;entropy&#x27;, n_estimators=50))])</pre><b>In a Jupyter environment, please rerun this cell to show the HTML representation or trust the notebook. <br />On GitHub, the HTML representation is unable to render, please try loading this page with nbviewer.org.</b></div><div class=\"sk-container\" hidden><div class=\"sk-item sk-dashed-wrapped\"><div class=\"sk-label-container\"><div class=\"sk-label sk-toggleable\"><input class=\"sk-toggleable__control sk-hidden--visually\" id=\"sk-estimator-id-13\" type=\"checkbox\" ><label for=\"sk-estimator-id-13\" class=\"sk-toggleable__label sk-toggleable__label-arrow\">Pipeline</label><div class=\"sk-toggleable__content\"><pre>Pipeline(steps=[(&#x27;tf_idf_vectorizer&#x27;,\n",
       "                 TfidfVectorizer(preprocessor=&lt;function custom_preprocessor at 0x0000027ED0A5B4C0&gt;)),\n",
       "                (&#x27;rf&#x27;,\n",
       "                 RandomForestClassifier(criterion=&#x27;entropy&#x27;, n_estimators=50))])</pre></div></div></div><div class=\"sk-serial\"><div class=\"sk-item\"><div class=\"sk-estimator sk-toggleable\"><input class=\"sk-toggleable__control sk-hidden--visually\" id=\"sk-estimator-id-14\" type=\"checkbox\" ><label for=\"sk-estimator-id-14\" class=\"sk-toggleable__label sk-toggleable__label-arrow\">TfidfVectorizer</label><div class=\"sk-toggleable__content\"><pre>TfidfVectorizer(preprocessor=&lt;function custom_preprocessor at 0x0000027ED0A5B4C0&gt;)</pre></div></div></div><div class=\"sk-item\"><div class=\"sk-estimator sk-toggleable\"><input class=\"sk-toggleable__control sk-hidden--visually\" id=\"sk-estimator-id-15\" type=\"checkbox\" ><label for=\"sk-estimator-id-15\" class=\"sk-toggleable__label sk-toggleable__label-arrow\">RandomForestClassifier</label><div class=\"sk-toggleable__content\"><pre>RandomForestClassifier(criterion=&#x27;entropy&#x27;, n_estimators=50)</pre></div></div></div></div></div></div></div>"
      ],
      "text/plain": [
       "Pipeline(steps=[('tf_idf_vectorizer',\n",
       "                 TfidfVectorizer(preprocessor=<function custom_preprocessor at 0x0000027ED0A5B4C0>)),\n",
       "                ('rf',\n",
       "                 RandomForestClassifier(criterion='entropy', n_estimators=50))])"
      ]
     },
     "execution_count": 238,
     "metadata": {},
     "output_type": "execute_result"
    }
   ],
   "source": [
    "from sklearn.ensemble import RandomForestClassifier\n",
    "\n",
    "pl_rf_tfidf = Pipeline([\n",
    "    ('tf_idf_vectorizer', TfidfVectorizer(preprocessor=custom_preprocessor)),\n",
    "    ('rf', RandomForestClassifier(n_estimators=50, criterion='entropy'))\n",
    "])\n",
    "\n",
    "pl_rf_tfidf.fit(X_train, y_train)"
   ]
  },
  {
   "cell_type": "code",
   "execution_count": 239,
   "id": "f5b946a0",
   "metadata": {},
   "outputs": [
    {
     "name": "stdout",
     "output_type": "stream",
     "text": [
      "              precision    recall  f1-score   support\n",
      "\n",
      "    negative       1.00      1.00      1.00        18\n",
      "     neutral       0.95      1.00      0.97        19\n",
      "    positive       1.00      0.95      0.98        21\n",
      "\n",
      "    accuracy                           0.98        58\n",
      "   macro avg       0.98      0.98      0.98        58\n",
      "weighted avg       0.98      0.98      0.98        58\n",
      "\n"
     ]
    }
   ],
   "source": [
    "y_pred = pl_rf_tfidf.predict(X_test)\n",
    "\n",
    "print(classification_report(y_test, y_pred))"
   ]
  },
  {
   "cell_type": "code",
   "execution_count": null,
   "id": "a1a53ace",
   "metadata": {},
   "outputs": [],
   "source": []
  },
  {
   "cell_type": "markdown",
   "id": "f54a8c9a",
   "metadata": {},
   "source": [
    "# Now doing preprocessing of Articles and labelling each sentiment score"
   ]
  },
  {
   "cell_type": "code",
   "execution_count": 241,
   "id": "e5f2bd1d",
   "metadata": {},
   "outputs": [],
   "source": [
    "#Now we are doing preprocessing to clean the text\n",
    "\n",
    "import spacy\n",
    "\n",
    "nlp = spacy.load('fr_core_news_sm')"
   ]
  },
  {
   "cell_type": "code",
   "execution_count": 242,
   "id": "5e691bcf",
   "metadata": {},
   "outputs": [],
   "source": [
    "def pre_process(text):\n",
    "    doc = nlp(text)\n",
    "    \n",
    "    filtered_text = []\n",
    "    \n",
    "    for token in doc:\n",
    "        if token.is_stop or token.is_punct:\n",
    "            continue\n",
    "        filtered_text.append(token.lemma_)\n",
    "        \n",
    "    \n",
    "    return \" \".join(filtered_text)"
   ]
  },
  {
   "cell_type": "code",
   "execution_count": 243,
   "id": "dccdfded",
   "metadata": {},
   "outputs": [],
   "source": [
    "balanced_df['processed_articles'] = balanced_df.Articles.apply(pre_process)"
   ]
  },
  {
   "cell_type": "code",
   "execution_count": 244,
   "id": "dcd34c61",
   "metadata": {
    "scrolled": true
   },
   "outputs": [
    {
     "data": {
      "text/html": [
       "<div>\n",
       "<style scoped>\n",
       "    .dataframe tbody tr th:only-of-type {\n",
       "        vertical-align: middle;\n",
       "    }\n",
       "\n",
       "    .dataframe tbody tr th {\n",
       "        vertical-align: top;\n",
       "    }\n",
       "\n",
       "    .dataframe thead th {\n",
       "        text-align: right;\n",
       "    }\n",
       "</style>\n",
       "<table border=\"1\" class=\"dataframe\">\n",
       "  <thead>\n",
       "    <tr style=\"text-align: right;\">\n",
       "      <th></th>\n",
       "      <th>Articles</th>\n",
       "      <th>Sentiments</th>\n",
       "      <th>processed_articles</th>\n",
       "    </tr>\n",
       "  </thead>\n",
       "  <tbody>\n",
       "    <tr>\n",
       "      <th>0</th>\n",
       "      <td>(Commerce, de, l’, or, :, Burkina, gold, tradi...</td>\n",
       "      <td>neutral</td>\n",
       "      <td>commerce Burkina gold trading international ou...</td>\n",
       "    </tr>\n",
       "    <tr>\n",
       "      <th>1</th>\n",
       "      <td>(Perkoa, /, Burkina, :, Une, commission, d’, e...</td>\n",
       "      <td>positive</td>\n",
       "      <td>perkoa Burkina commission enquête faire lumièr...</td>\n",
       "    </tr>\n",
       "    <tr>\n",
       "      <th>2</th>\n",
       "      <td>(Rétrospective, de, l’, actualité, minière, en...</td>\n",
       "      <td>positive</td>\n",
       "      <td>rétrospective actualité minier 2022 drame bais...</td>\n",
       "    </tr>\n",
       "    <tr>\n",
       "      <th>3</th>\n",
       "      <td>(Secteur, minier, au, Burkina, :, Ce, qu’, il,...</td>\n",
       "      <td>negative</td>\n",
       "      <td>Secteur minier Burkina falloir retenir rapport...</td>\n",
       "    </tr>\n",
       "    <tr>\n",
       "      <th>4</th>\n",
       "      <td>(Mine, de, Perkoa, :, Quatre, corps, retrouvés...</td>\n",
       "      <td>negative</td>\n",
       "      <td>mine Perkoa corps retrouver \\n Accueil &gt; actua...</td>\n",
       "    </tr>\n",
       "  </tbody>\n",
       "</table>\n",
       "</div>"
      ],
      "text/plain": [
       "                                            Articles Sentiments  \\\n",
       "0  (Commerce, de, l’, or, :, Burkina, gold, tradi...    neutral   \n",
       "1  (Perkoa, /, Burkina, :, Une, commission, d’, e...   positive   \n",
       "2  (Rétrospective, de, l’, actualité, minière, en...   positive   \n",
       "3  (Secteur, minier, au, Burkina, :, Ce, qu’, il,...   negative   \n",
       "4  (Mine, de, Perkoa, :, Quatre, corps, retrouvés...   negative   \n",
       "\n",
       "                                  processed_articles  \n",
       "0  commerce Burkina gold trading international ou...  \n",
       "1  perkoa Burkina commission enquête faire lumièr...  \n",
       "2  rétrospective actualité minier 2022 drame bais...  \n",
       "3  Secteur minier Burkina falloir retenir rapport...  \n",
       "4  mine Perkoa corps retrouver \\n Accueil > actua...  "
      ]
     },
     "execution_count": 244,
     "metadata": {},
     "output_type": "execute_result"
    }
   ],
   "source": [
    "balanced_df.head()"
   ]
  },
  {
   "cell_type": "markdown",
   "id": "bd1c6a66",
   "metadata": {},
   "source": [
    "# Labelling each sentiment"
   ]
  },
  {
   "cell_type": "code",
   "execution_count": 248,
   "id": "42d32b83",
   "metadata": {},
   "outputs": [],
   "source": [
    "balanced_df[\"Sentiment_num\"] = balanced_df.Sentiments.map({\n",
    "    \"positive\" : 0,\n",
    "    \"negative\" : 1,\n",
    "    \"neutral\" : 2\n",
    "})"
   ]
  },
  {
   "cell_type": "code",
   "execution_count": 249,
   "id": "80c8db5a",
   "metadata": {},
   "outputs": [
    {
     "data": {
      "text/html": [
       "<div>\n",
       "<style scoped>\n",
       "    .dataframe tbody tr th:only-of-type {\n",
       "        vertical-align: middle;\n",
       "    }\n",
       "\n",
       "    .dataframe tbody tr th {\n",
       "        vertical-align: top;\n",
       "    }\n",
       "\n",
       "    .dataframe thead th {\n",
       "        text-align: right;\n",
       "    }\n",
       "</style>\n",
       "<table border=\"1\" class=\"dataframe\">\n",
       "  <thead>\n",
       "    <tr style=\"text-align: right;\">\n",
       "      <th></th>\n",
       "      <th>Articles</th>\n",
       "      <th>Sentiments</th>\n",
       "      <th>processed_articles</th>\n",
       "      <th>Sentiment_num</th>\n",
       "    </tr>\n",
       "  </thead>\n",
       "  <tbody>\n",
       "    <tr>\n",
       "      <th>0</th>\n",
       "      <td>(Commerce, de, l’, or, :, Burkina, gold, tradi...</td>\n",
       "      <td>neutral</td>\n",
       "      <td>commerce Burkina gold trading international ou...</td>\n",
       "      <td>2</td>\n",
       "    </tr>\n",
       "    <tr>\n",
       "      <th>1</th>\n",
       "      <td>(Perkoa, /, Burkina, :, Une, commission, d’, e...</td>\n",
       "      <td>positive</td>\n",
       "      <td>perkoa Burkina commission enquête faire lumièr...</td>\n",
       "      <td>0</td>\n",
       "    </tr>\n",
       "    <tr>\n",
       "      <th>2</th>\n",
       "      <td>(Rétrospective, de, l’, actualité, minière, en...</td>\n",
       "      <td>positive</td>\n",
       "      <td>rétrospective actualité minier 2022 drame bais...</td>\n",
       "      <td>0</td>\n",
       "    </tr>\n",
       "    <tr>\n",
       "      <th>3</th>\n",
       "      <td>(Secteur, minier, au, Burkina, :, Ce, qu’, il,...</td>\n",
       "      <td>negative</td>\n",
       "      <td>Secteur minier Burkina falloir retenir rapport...</td>\n",
       "      <td>1</td>\n",
       "    </tr>\n",
       "    <tr>\n",
       "      <th>4</th>\n",
       "      <td>(Mine, de, Perkoa, :, Quatre, corps, retrouvés...</td>\n",
       "      <td>negative</td>\n",
       "      <td>mine Perkoa corps retrouver \\n Accueil &gt; actua...</td>\n",
       "      <td>1</td>\n",
       "    </tr>\n",
       "  </tbody>\n",
       "</table>\n",
       "</div>"
      ],
      "text/plain": [
       "                                            Articles Sentiments  \\\n",
       "0  (Commerce, de, l’, or, :, Burkina, gold, tradi...    neutral   \n",
       "1  (Perkoa, /, Burkina, :, Une, commission, d’, e...   positive   \n",
       "2  (Rétrospective, de, l’, actualité, minière, en...   positive   \n",
       "3  (Secteur, minier, au, Burkina, :, Ce, qu’, il,...   negative   \n",
       "4  (Mine, de, Perkoa, :, Quatre, corps, retrouvés...   negative   \n",
       "\n",
       "                                  processed_articles  Sentiment_num  \n",
       "0  commerce Burkina gold trading international ou...              2  \n",
       "1  perkoa Burkina commission enquête faire lumièr...              0  \n",
       "2  rétrospective actualité minier 2022 drame bais...              0  \n",
       "3  Secteur minier Burkina falloir retenir rapport...              1  \n",
       "4  mine Perkoa corps retrouver \\n Accueil > actua...              1  "
      ]
     },
     "execution_count": 249,
     "metadata": {},
     "output_type": "execute_result"
    }
   ],
   "source": [
    "balanced_df.head()"
   ]
  },
  {
   "cell_type": "code",
   "execution_count": null,
   "id": "543f7452",
   "metadata": {},
   "outputs": [],
   "source": []
  },
  {
   "cell_type": "markdown",
   "id": "cdac999b",
   "metadata": {},
   "source": [
    "# Splitting our dataset into Training and testing "
   ]
  },
  {
   "cell_type": "code",
   "execution_count": 251,
   "id": "1874b082",
   "metadata": {},
   "outputs": [],
   "source": [
    "#train-test-split processed data\n",
    "\n",
    "X_train, X_test, y_train, y_test = train_test_split(\n",
    "    balanced_df.processed_articles, \n",
    "    balanced_df.Sentiment_num, \n",
    "    test_size=0.2,\n",
    "    random_state=2022,\n",
    "    stratify=balanced_df.Sentiment_num\n",
    ")"
   ]
  },
  {
   "cell_type": "code",
   "execution_count": null,
   "id": "0abd3808",
   "metadata": {},
   "outputs": [],
   "source": [
    "# Using tfidf with KNN"
   ]
  },
  {
   "cell_type": "code",
   "execution_count": 252,
   "id": "6b5a8e82",
   "metadata": {},
   "outputs": [
    {
     "data": {
      "text/html": [
       "<style>#sk-container-id-6 {color: black;background-color: white;}#sk-container-id-6 pre{padding: 0;}#sk-container-id-6 div.sk-toggleable {background-color: white;}#sk-container-id-6 label.sk-toggleable__label {cursor: pointer;display: block;width: 100%;margin-bottom: 0;padding: 0.3em;box-sizing: border-box;text-align: center;}#sk-container-id-6 label.sk-toggleable__label-arrow:before {content: \"▸\";float: left;margin-right: 0.25em;color: #696969;}#sk-container-id-6 label.sk-toggleable__label-arrow:hover:before {color: black;}#sk-container-id-6 div.sk-estimator:hover label.sk-toggleable__label-arrow:before {color: black;}#sk-container-id-6 div.sk-toggleable__content {max-height: 0;max-width: 0;overflow: hidden;text-align: left;background-color: #f0f8ff;}#sk-container-id-6 div.sk-toggleable__content pre {margin: 0.2em;color: black;border-radius: 0.25em;background-color: #f0f8ff;}#sk-container-id-6 input.sk-toggleable__control:checked~div.sk-toggleable__content {max-height: 200px;max-width: 100%;overflow: auto;}#sk-container-id-6 input.sk-toggleable__control:checked~label.sk-toggleable__label-arrow:before {content: \"▾\";}#sk-container-id-6 div.sk-estimator input.sk-toggleable__control:checked~label.sk-toggleable__label {background-color: #d4ebff;}#sk-container-id-6 div.sk-label input.sk-toggleable__control:checked~label.sk-toggleable__label {background-color: #d4ebff;}#sk-container-id-6 input.sk-hidden--visually {border: 0;clip: rect(1px 1px 1px 1px);clip: rect(1px, 1px, 1px, 1px);height: 1px;margin: -1px;overflow: hidden;padding: 0;position: absolute;width: 1px;}#sk-container-id-6 div.sk-estimator {font-family: monospace;background-color: #f0f8ff;border: 1px dotted black;border-radius: 0.25em;box-sizing: border-box;margin-bottom: 0.5em;}#sk-container-id-6 div.sk-estimator:hover {background-color: #d4ebff;}#sk-container-id-6 div.sk-parallel-item::after {content: \"\";width: 100%;border-bottom: 1px solid gray;flex-grow: 1;}#sk-container-id-6 div.sk-label:hover label.sk-toggleable__label {background-color: #d4ebff;}#sk-container-id-6 div.sk-serial::before {content: \"\";position: absolute;border-left: 1px solid gray;box-sizing: border-box;top: 0;bottom: 0;left: 50%;z-index: 0;}#sk-container-id-6 div.sk-serial {display: flex;flex-direction: column;align-items: center;background-color: white;padding-right: 0.2em;padding-left: 0.2em;position: relative;}#sk-container-id-6 div.sk-item {position: relative;z-index: 1;}#sk-container-id-6 div.sk-parallel {display: flex;align-items: stretch;justify-content: center;background-color: white;position: relative;}#sk-container-id-6 div.sk-item::before, #sk-container-id-6 div.sk-parallel-item::before {content: \"\";position: absolute;border-left: 1px solid gray;box-sizing: border-box;top: 0;bottom: 0;left: 50%;z-index: -1;}#sk-container-id-6 div.sk-parallel-item {display: flex;flex-direction: column;z-index: 1;position: relative;background-color: white;}#sk-container-id-6 div.sk-parallel-item:first-child::after {align-self: flex-end;width: 50%;}#sk-container-id-6 div.sk-parallel-item:last-child::after {align-self: flex-start;width: 50%;}#sk-container-id-6 div.sk-parallel-item:only-child::after {width: 0;}#sk-container-id-6 div.sk-dashed-wrapped {border: 1px dashed gray;margin: 0 0.4em 0.5em 0.4em;box-sizing: border-box;padding-bottom: 0.4em;background-color: white;}#sk-container-id-6 div.sk-label label {font-family: monospace;font-weight: bold;display: inline-block;line-height: 1.2em;}#sk-container-id-6 div.sk-label-container {text-align: center;}#sk-container-id-6 div.sk-container {/* jupyter's `normalize.less` sets `[hidden] { display: none; }` but bootstrap.min.css set `[hidden] { display: none !important; }` so we also need the `!important` here to be able to override the default hidden behavior on the sphinx rendered scikit-learn.org. See: https://github.com/scikit-learn/scikit-learn/issues/21755 */display: inline-block !important;position: relative;}#sk-container-id-6 div.sk-text-repr-fallback {display: none;}</style><div id=\"sk-container-id-6\" class=\"sk-top-container\"><div class=\"sk-text-repr-fallback\"><pre>Pipeline(steps=[(&#x27;tf_idf_vectorizer&#x27;,\n",
       "                 TfidfVectorizer(preprocessor=&lt;function custom_preprocessor at 0x0000027ED0A5B4C0&gt;)),\n",
       "                (&#x27;knn&#x27;, KNeighborsClassifier())])</pre><b>In a Jupyter environment, please rerun this cell to show the HTML representation or trust the notebook. <br />On GitHub, the HTML representation is unable to render, please try loading this page with nbviewer.org.</b></div><div class=\"sk-container\" hidden><div class=\"sk-item sk-dashed-wrapped\"><div class=\"sk-label-container\"><div class=\"sk-label sk-toggleable\"><input class=\"sk-toggleable__control sk-hidden--visually\" id=\"sk-estimator-id-16\" type=\"checkbox\" ><label for=\"sk-estimator-id-16\" class=\"sk-toggleable__label sk-toggleable__label-arrow\">Pipeline</label><div class=\"sk-toggleable__content\"><pre>Pipeline(steps=[(&#x27;tf_idf_vectorizer&#x27;,\n",
       "                 TfidfVectorizer(preprocessor=&lt;function custom_preprocessor at 0x0000027ED0A5B4C0&gt;)),\n",
       "                (&#x27;knn&#x27;, KNeighborsClassifier())])</pre></div></div></div><div class=\"sk-serial\"><div class=\"sk-item\"><div class=\"sk-estimator sk-toggleable\"><input class=\"sk-toggleable__control sk-hidden--visually\" id=\"sk-estimator-id-17\" type=\"checkbox\" ><label for=\"sk-estimator-id-17\" class=\"sk-toggleable__label sk-toggleable__label-arrow\">TfidfVectorizer</label><div class=\"sk-toggleable__content\"><pre>TfidfVectorizer(preprocessor=&lt;function custom_preprocessor at 0x0000027ED0A5B4C0&gt;)</pre></div></div></div><div class=\"sk-item\"><div class=\"sk-estimator sk-toggleable\"><input class=\"sk-toggleable__control sk-hidden--visually\" id=\"sk-estimator-id-18\" type=\"checkbox\" ><label for=\"sk-estimator-id-18\" class=\"sk-toggleable__label sk-toggleable__label-arrow\">KNeighborsClassifier</label><div class=\"sk-toggleable__content\"><pre>KNeighborsClassifier()</pre></div></div></div></div></div></div></div>"
      ],
      "text/plain": [
       "Pipeline(steps=[('tf_idf_vectorizer',\n",
       "                 TfidfVectorizer(preprocessor=<function custom_preprocessor at 0x0000027ED0A5B4C0>)),\n",
       "                ('knn', KNeighborsClassifier())])"
      ]
     },
     "execution_count": 252,
     "metadata": {},
     "output_type": "execute_result"
    }
   ],
   "source": [
    "pl_knn_tfidf = Pipeline([\n",
    "    ('tf_idf_vectorizer', TfidfVectorizer(preprocessor=custom_preprocessor)),\n",
    "    ('knn', KNeighborsClassifier())\n",
    "])\n",
    "\n",
    "pl_knn_tfidf.fit(X_train, y_train)"
   ]
  },
  {
   "cell_type": "code",
   "execution_count": 253,
   "id": "b520ef9e",
   "metadata": {},
   "outputs": [
    {
     "name": "stdout",
     "output_type": "stream",
     "text": [
      "              precision    recall  f1-score   support\n",
      "\n",
      "           0       1.00      0.84      0.91        19\n",
      "           1       0.86      0.90      0.88        20\n",
      "           2       0.81      0.89      0.85        19\n",
      "\n",
      "    accuracy                           0.88        58\n",
      "   macro avg       0.89      0.88      0.88        58\n",
      "weighted avg       0.89      0.88      0.88        58\n",
      "\n"
     ]
    }
   ],
   "source": [
    "y_pred = pl_knn_tfidf.predict(X_test)\n",
    "\n",
    "print(classification_report(y_test, y_pred))"
   ]
  },
  {
   "cell_type": "code",
   "execution_count": null,
   "id": "e5a9f4e4",
   "metadata": {},
   "outputs": [],
   "source": []
  },
  {
   "cell_type": "code",
   "execution_count": null,
   "id": "ddf8ae75",
   "metadata": {},
   "outputs": [],
   "source": [
    "# USing tfidf with RandomForest"
   ]
  },
  {
   "cell_type": "code",
   "execution_count": 254,
   "id": "1f7012b4",
   "metadata": {},
   "outputs": [
    {
     "data": {
      "text/html": [
       "<style>#sk-container-id-7 {color: black;background-color: white;}#sk-container-id-7 pre{padding: 0;}#sk-container-id-7 div.sk-toggleable {background-color: white;}#sk-container-id-7 label.sk-toggleable__label {cursor: pointer;display: block;width: 100%;margin-bottom: 0;padding: 0.3em;box-sizing: border-box;text-align: center;}#sk-container-id-7 label.sk-toggleable__label-arrow:before {content: \"▸\";float: left;margin-right: 0.25em;color: #696969;}#sk-container-id-7 label.sk-toggleable__label-arrow:hover:before {color: black;}#sk-container-id-7 div.sk-estimator:hover label.sk-toggleable__label-arrow:before {color: black;}#sk-container-id-7 div.sk-toggleable__content {max-height: 0;max-width: 0;overflow: hidden;text-align: left;background-color: #f0f8ff;}#sk-container-id-7 div.sk-toggleable__content pre {margin: 0.2em;color: black;border-radius: 0.25em;background-color: #f0f8ff;}#sk-container-id-7 input.sk-toggleable__control:checked~div.sk-toggleable__content {max-height: 200px;max-width: 100%;overflow: auto;}#sk-container-id-7 input.sk-toggleable__control:checked~label.sk-toggleable__label-arrow:before {content: \"▾\";}#sk-container-id-7 div.sk-estimator input.sk-toggleable__control:checked~label.sk-toggleable__label {background-color: #d4ebff;}#sk-container-id-7 div.sk-label input.sk-toggleable__control:checked~label.sk-toggleable__label {background-color: #d4ebff;}#sk-container-id-7 input.sk-hidden--visually {border: 0;clip: rect(1px 1px 1px 1px);clip: rect(1px, 1px, 1px, 1px);height: 1px;margin: -1px;overflow: hidden;padding: 0;position: absolute;width: 1px;}#sk-container-id-7 div.sk-estimator {font-family: monospace;background-color: #f0f8ff;border: 1px dotted black;border-radius: 0.25em;box-sizing: border-box;margin-bottom: 0.5em;}#sk-container-id-7 div.sk-estimator:hover {background-color: #d4ebff;}#sk-container-id-7 div.sk-parallel-item::after {content: \"\";width: 100%;border-bottom: 1px solid gray;flex-grow: 1;}#sk-container-id-7 div.sk-label:hover label.sk-toggleable__label {background-color: #d4ebff;}#sk-container-id-7 div.sk-serial::before {content: \"\";position: absolute;border-left: 1px solid gray;box-sizing: border-box;top: 0;bottom: 0;left: 50%;z-index: 0;}#sk-container-id-7 div.sk-serial {display: flex;flex-direction: column;align-items: center;background-color: white;padding-right: 0.2em;padding-left: 0.2em;position: relative;}#sk-container-id-7 div.sk-item {position: relative;z-index: 1;}#sk-container-id-7 div.sk-parallel {display: flex;align-items: stretch;justify-content: center;background-color: white;position: relative;}#sk-container-id-7 div.sk-item::before, #sk-container-id-7 div.sk-parallel-item::before {content: \"\";position: absolute;border-left: 1px solid gray;box-sizing: border-box;top: 0;bottom: 0;left: 50%;z-index: -1;}#sk-container-id-7 div.sk-parallel-item {display: flex;flex-direction: column;z-index: 1;position: relative;background-color: white;}#sk-container-id-7 div.sk-parallel-item:first-child::after {align-self: flex-end;width: 50%;}#sk-container-id-7 div.sk-parallel-item:last-child::after {align-self: flex-start;width: 50%;}#sk-container-id-7 div.sk-parallel-item:only-child::after {width: 0;}#sk-container-id-7 div.sk-dashed-wrapped {border: 1px dashed gray;margin: 0 0.4em 0.5em 0.4em;box-sizing: border-box;padding-bottom: 0.4em;background-color: white;}#sk-container-id-7 div.sk-label label {font-family: monospace;font-weight: bold;display: inline-block;line-height: 1.2em;}#sk-container-id-7 div.sk-label-container {text-align: center;}#sk-container-id-7 div.sk-container {/* jupyter's `normalize.less` sets `[hidden] { display: none; }` but bootstrap.min.css set `[hidden] { display: none !important; }` so we also need the `!important` here to be able to override the default hidden behavior on the sphinx rendered scikit-learn.org. See: https://github.com/scikit-learn/scikit-learn/issues/21755 */display: inline-block !important;position: relative;}#sk-container-id-7 div.sk-text-repr-fallback {display: none;}</style><div id=\"sk-container-id-7\" class=\"sk-top-container\"><div class=\"sk-text-repr-fallback\"><pre>Pipeline(steps=[(&#x27;tf_idf_vectorizer&#x27;,\n",
       "                 TfidfVectorizer(preprocessor=&lt;function custom_preprocessor at 0x0000027ED0A5B4C0&gt;)),\n",
       "                (&#x27;rf&#x27;,\n",
       "                 RandomForestClassifier(criterion=&#x27;entropy&#x27;, n_estimators=50))])</pre><b>In a Jupyter environment, please rerun this cell to show the HTML representation or trust the notebook. <br />On GitHub, the HTML representation is unable to render, please try loading this page with nbviewer.org.</b></div><div class=\"sk-container\" hidden><div class=\"sk-item sk-dashed-wrapped\"><div class=\"sk-label-container\"><div class=\"sk-label sk-toggleable\"><input class=\"sk-toggleable__control sk-hidden--visually\" id=\"sk-estimator-id-19\" type=\"checkbox\" ><label for=\"sk-estimator-id-19\" class=\"sk-toggleable__label sk-toggleable__label-arrow\">Pipeline</label><div class=\"sk-toggleable__content\"><pre>Pipeline(steps=[(&#x27;tf_idf_vectorizer&#x27;,\n",
       "                 TfidfVectorizer(preprocessor=&lt;function custom_preprocessor at 0x0000027ED0A5B4C0&gt;)),\n",
       "                (&#x27;rf&#x27;,\n",
       "                 RandomForestClassifier(criterion=&#x27;entropy&#x27;, n_estimators=50))])</pre></div></div></div><div class=\"sk-serial\"><div class=\"sk-item\"><div class=\"sk-estimator sk-toggleable\"><input class=\"sk-toggleable__control sk-hidden--visually\" id=\"sk-estimator-id-20\" type=\"checkbox\" ><label for=\"sk-estimator-id-20\" class=\"sk-toggleable__label sk-toggleable__label-arrow\">TfidfVectorizer</label><div class=\"sk-toggleable__content\"><pre>TfidfVectorizer(preprocessor=&lt;function custom_preprocessor at 0x0000027ED0A5B4C0&gt;)</pre></div></div></div><div class=\"sk-item\"><div class=\"sk-estimator sk-toggleable\"><input class=\"sk-toggleable__control sk-hidden--visually\" id=\"sk-estimator-id-21\" type=\"checkbox\" ><label for=\"sk-estimator-id-21\" class=\"sk-toggleable__label sk-toggleable__label-arrow\">RandomForestClassifier</label><div class=\"sk-toggleable__content\"><pre>RandomForestClassifier(criterion=&#x27;entropy&#x27;, n_estimators=50)</pre></div></div></div></div></div></div></div>"
      ],
      "text/plain": [
       "Pipeline(steps=[('tf_idf_vectorizer',\n",
       "                 TfidfVectorizer(preprocessor=<function custom_preprocessor at 0x0000027ED0A5B4C0>)),\n",
       "                ('rf',\n",
       "                 RandomForestClassifier(criterion='entropy', n_estimators=50))])"
      ]
     },
     "execution_count": 254,
     "metadata": {},
     "output_type": "execute_result"
    }
   ],
   "source": [
    "from sklearn.ensemble import RandomForestClassifier\n",
    "\n",
    "pl_rf_tfidf = Pipeline([\n",
    "    ('tf_idf_vectorizer', TfidfVectorizer(preprocessor=custom_preprocessor)),\n",
    "    ('rf', RandomForestClassifier(n_estimators=50, criterion='entropy'))\n",
    "])\n",
    "\n",
    "pl_rf_tfidf.fit(X_train, y_train)"
   ]
  },
  {
   "cell_type": "code",
   "execution_count": 255,
   "id": "0a8f7041",
   "metadata": {
    "scrolled": true
   },
   "outputs": [
    {
     "name": "stdout",
     "output_type": "stream",
     "text": [
      "              precision    recall  f1-score   support\n",
      "\n",
      "           0       1.00      1.00      1.00        19\n",
      "           1       1.00      1.00      1.00        20\n",
      "           2       1.00      1.00      1.00        19\n",
      "\n",
      "    accuracy                           1.00        58\n",
      "   macro avg       1.00      1.00      1.00        58\n",
      "weighted avg       1.00      1.00      1.00        58\n",
      "\n"
     ]
    }
   ],
   "source": [
    "y_pred = pl_rf_tfidf.predict(X_test)\n",
    "\n",
    "print(classification_report(y_test, y_pred))"
   ]
  },
  {
   "cell_type": "code",
   "execution_count": null,
   "id": "7c3d47b3",
   "metadata": {},
   "outputs": [],
   "source": [
    "# Predicting sentiment by giving artcle individually"
   ]
  },
  {
   "cell_type": "code",
   "execution_count": 258,
   "id": "9bcbc82a",
   "metadata": {},
   "outputs": [
    {
     "data": {
      "text/plain": [
       "0    Exploitation minière au Burkina : L’Etat cède ...\n",
       "dtype: object"
      ]
     },
     "execution_count": 258,
     "metadata": {},
     "output_type": "execute_result"
    }
   ],
   "source": [
    "s_text = pd.Series(\"\"\"Exploitation minière au Burkina : L’Etat cède les mines de Tambao et d’Inata à Afro Turk pour 30 milliards de francs CFA\n",
    "Accueil > Actualités > DOSSIERS > Mines, mineurs, miniers, énergie •  • mardi 25 avril 2023 à 22h58min\n",
    "En conseil des ministres du 1er mars 2023, le gouvernement burkinabè avait décidé d’autoriser la cession des actifs miniers pour l’exploitation industrielle du manganèse de Tambao et de la grande mine d’or d’Inata à la société Afro Turk par une procédure d’entente directe. Plus d’un mois après, le ministère de l’Energie, des mines et des carrières et celui de l’économie ont signé le contrat de cession. C’était ce mardi 25 avril 2023 à Ouagadougou, en présence des responsables de la société extractive.\n",
    "Après l’étape de la cession en conseil des ministres, cette signature de contrat marque une autre étape franchie par l’Etat burkinabè et la société extractive turque. Selon les explications du ministre en charge des mines, Simon-Pierre Boussim, l’Etat burkinabè a cédé à Afro Turk le manganèse de Tambao pour un montant de 28 milliards de francs CFA et la mine d’or d’Inata pour un montant de 2 milliards de francs, soit un total de 30 milliards de francs CFA. Toutefois, souligne le ministre, la signature du contrat ne donne pas immédiatement un droit d’exploitation à Afro Turk Tambao et Afro Turk Inata qui devront encore déposer une demande de permis d’exploitation, conformément à la réglementation du code minier.\n",
    "Le ministre en charge des mines a indiqué que ces sociétés doivent construire des bases pour les FDS\n",
    "C’est à l’issue de cette procédure que le gouvernement donnera l’autorisation d’exploitation. « Cette signature va permettre à ces sociétés d’être propriétaires de ces actifs miniers. A l’étape actuelle, avec cette signature, les sociétés ne sont pas d’abord autorisées à l’exploitation. Elles vont donc actualiser les études technico-économiques et déposer une demande pour qu’on puisse leur autoriser l’exploitation » a-t-il expliqué.\n",
    "Dans son allocution, il a aussi exhorté les sociétés au respect des termes du contrat, tout en rappelant leur contribution à la lutte contre l’insécurité au Burkina Faso. Dans ces zones ciblées, c’est une question de sécurisation et cela fait partie des clauses du contrat, a-t-il rappelé aux, sociétés avant d’indiquer que l’Etat burkinabè demande à ces sociétés de construire des bases pour les Forces de défense et de sécurité (FDS) dans le cadre de la lutte contre le terrorisme. En plus de la construction des bases pour les FDS, il aussi évoqué les questions de création d’emplois pour les jeunes et le développement des communautés locales.\n",
    "Le représentant de la société Afro Turk, Savas Balcik, s’est engagé à respecter les clauses du contrat\n",
    "Le représentant de ces sociétés, Savas Balcik, dit prendre note des clauses du contrat évoqué par le premier responsable du département des mines au Burkina. Ces sociétés, a-t-il dit, ont une grande expérience dans le domaine d’exploitation des mines dans le monde. « Nous sommes dans le domaine depuis 1938 », a-t-il confié.\n",
    "Faut-il le rappeler, cette décision de cession avait fait des gorges chaudes au sein de l’opinion nationale parce que certains se sont montrés très inquiets de cette manière de procéder par l’Etat en octroyant des gisements importants par la procédure d’entente directe.\n",
    "S.I.K\n",
    "\n",
    "\n",
    "Vos commentaires\n",
    "1. Le 25 avril à 16:10, par A qui la faute ? En réponse à : Exploitation minière au Burkina : L’Etat signe un contrat de cession des actifs miniers à Afro Turk à hauteur de 30 milliards de francs CFA\n",
    "Entente directe=corruption.\n",
    "C’est ce qu’on reprochait aux affairistes Roch, Simon et compagnie.\n",
    "Les gens vont se faire verser l’argent quelque part et récupérer tranquillement.\n",
    "Comment certains simples fonctionnaires arrivent à immigrer aux Canada avec toute la famille et sans emploi et avant même la retraite ?\n",
    "Répondre à ce message\n",
    "2. Le 25 avril à 16:11, par A qui la faute ? En réponse à : Exploitation minière au Burkina : L’Etat signe un contrat de cession des actifs miniers à Afro Turk à hauteur de 30 milliards de francs CFA\n",
    "Entente directe = corruption.\n",
    "C’est ce qu’on reprochait aux affairistes Roch, Simon et compagnie.\n",
    "Les gens vont se faire verser l’argent quelque part et récupérer tranquillement.\n",
    "Comment certains simples fonctionnaires arrivent à immigrer aux Canada avec toute la famille et sans emploi et avant même la retraite ?\n",
    "Répondre à ce message\n",
    "3. Le 25 avril à 16:19, par Salif En réponse à : Exploitation minière au Burkina : L’Etat signe un contrat de cession des actifs miniers à Afro Turk à hauteur de 30 milliards de francs CFA\n",
    "Une seule question :\n",
    "Cette cession est-elle pour une période indéterminée ?\n",
    "Il est écrit \"Cette signature va permettre à ces sociétés d’être propriétaires de ces actifs miniers\" Question : Des propriétaires à vie ?\n",
    "Répondre à ce message\n",
    "4. Le 25 avril à 16:35, par Barou En réponse à : Exploitation minière au Burkina : L’Etat signe un contrat de cession des actifs miniers à Afro Turk à hauteur de 30 milliards de francs CFA\n",
    "C EST QUAND LES PAYS COMME LE NOTRE VONT EXPLOITER LEURS PROPRES RESOURCES ?\n",
    "Je vois toujours ces meme pratiques du temps colon.\n",
    "C est nous on a la maniere mais ceux qui ont pas la maniere c est ceux qui ont le materiel pour extraire.\n",
    "On est assis on regarde et tres confortable.\n",
    "Comme ça on se permet de dire le Burkina pays independent.\n",
    "Répondre à ce message\n",
    "5. Le 25 avril à 17:07, par Dieu Sauve BF En réponse à : Exploitation minière au Burkina : L’Etat signe un contrat de cession des actifs miniers à Afro Turk à hauteur de 30 milliards de francs CFA\n",
    "Que représente les 30 milliards, conformément au code minier du Burkina ? Les patriotes du moment auraient mieux fait en donnant la mine de Tambao à EBOMAF.\n",
    "Répondre à ce message\n",
    "6. Le 25 avril à 17:23, par Tonton Jos En réponse à : Exploitation minière au Burkina : L’Etat signe un contrat de cession des actifs miniers à Afro Turk à hauteur de 30 milliards de francs CFA\n",
    "Qu’en est il du chemin de fer Ouaga Tambao en passant par Kaya, Dori ? Vivement que le projet intègre ce volet si cher a Tom Sank, et très utile pour le développement\n",
    "Répondre à ce message\n",
    "7. Le 25 avril à 20:40, par Passakziri En réponse à : Exploitation minière au Burkina : L’Etat signe un contrat de cession des actifs miniers à Afro Turk à hauteur de 30 milliards de francs CFA\n",
    "… l état demande à ces sociétés de construire des bases pour les FDS…\n",
    "Hmmm ! Voilà ce que Sandaogo SeseSeko apellait celui qui se bat pour la chose… avant de préciser que des gens les ont approché pour leur demander de leur donner des zones à sécuriser ( comprendre plutôt à exploiter). Vraiment quand tu es né avec le bouc tes larmes ne tarissent pas au marché. Eh bien voilà des sociétés qui construiront des bases , signeront des accords avec les GAT et payeront des rançons qui permettront aux GAT de s équiper et de nous attaquer à l ailleurs ou dans d autres pays, et nos nez percés de demander avec un air débonnaire : „ qui donne les armes aux terroristes „ et de répondre sournoisement „ la France y est pour quelque chose „\n",
    "Passakziri\n",
    "Répondre à ce message\n",
    "^ Le 26 avril à 06:43, par Peuple insurgé En réponse à : Exploitation minière au Burkina : L’Etat signe un contrat de cession des actifs miniers à Afro Turk à hauteur de 30 milliards de francs CFA\n",
    "C’est vraiment ça mon frère. A quand le développement endogène ? C’est vraiment triste. Les exploiteurs trouveront les arrangements avec les commanditaires du terrorisme et se partageront l’argent des mines du Faso. On aura quelques bombes pour pulvériser d’autres burkinabè (parfois terroristes, parfois simples malheureux burkinabè qui ressemblent aux terroristes ou soupçonnés comme tels,...). Eh oui ! On continuera à nous niquer pour encore longtemps.\n",
    "Répondre à ce message\n",
    "8. Le 26 avril à 02:05, par Biao En réponse à : Exploitation minière au Burkina : L’Etat cède les mines de Tambao et d’Inata à Afro Turk pour 30 milliards de francs CFA\n",
    "Comment peut-on faire ça ?\n",
    "Il faudrait que le gouvernement se ressaisisse , c’est surtout pas le bon moment de brader ainsi les mines du pays.\n",
    "Roch au moins n’a pas liquidé nos mines de cette façon À cette allure tout nos biens vont s’effriter d’ici la fin de transition\n",
    "Répondre à ce message\n",
    "9. Le 26 avril à 02:07, par AOL En réponse à : Exploitation minière au Burkina : L’Etat cède les mines de Tambao et d’Inata à Afro Turk pour 30 milliards de francs CFA\n",
    "Très louche cette histoire, Une société minière dont le nom n’apparaît pas sur aucune recherche Google (qui n’existe que sur papier) et le Burkina Faso cède par entente directe une mine dont les réserves sont classées mondialement. Cette transition prendras fin un jour et leurs successeur chercherons a voir claire dans cette histoire\n",
    "Répondre à ce message\n",
    "10. Le 26 avril à 07:32, par Fretback En réponse à : Exploitation minière au Burkina : L’Etat cède les mines de Tambao et d’Inata à Afro Turk pour 30 milliards de francs CFA\n",
    "Car il y a impérialisme et impérialisme, hein ! Et ça fait un moment soit depuis le début du grand djihad régional que les ’miniers’ se succèdent, échouent, quittent, reviennent, repartent, se revendent les filons ; en pleine zone de guerre, il faut aimer cela, ou alors c’est qu’il y a quelques anguilles sous roche comme on dit chez les seuls et vrais impérialistes, ’les’ Français, haha ! Si ces exploitants ne graissent pas la patte des uns, et des autres, j’entends des personnes plus que des entités, de toutes les parties qui se disputent dans le sang, l’idéologie et le mensonge la dépouille burkinabè, il n’y aura pas... d’exploitation. Tel est et a toujours été la politique du comptoir chère aux ’cultures’ sub-sahariennes. Je me demande même si cela ne va pas empirer avec la dislocation des états de la région, le retour de la haine ’tribale’, le repli identitaire ; et toutes les fuites en avant qui vont accompagner tout cela. C’est sans espoir.\n",
    "Répondre à ce message\n",
    "11. Le 26 avril à 07:39, par leCONsultant En réponse à : Exploitation minière au Burkina : L’Etat cède les mines de Tambao et d’Inata à Afro Turk pour 30 milliards de francs CFA\n",
    "Seul en Afrique que les ressources sont cedées.\n",
    "Dans les autres pays, l’état est soit actionnaire soit privatise l’exploitation des ressources non tariissables comme les routes, les fleuves, les aéroports et récolté des taxes.\n",
    "Je ne connais rien en mine mais je suppose que la quantité est limitée dans une mine ?\n",
    "Donc c’est une vente pure et simple de 2 mines au prix de 800Kg d’or.\n",
    "Es ce qu’il faut faire des grandes études pour savoir qu’une mine produira plus de 800kg ?\n",
    "Nous sommes responsables de notre misère !!!\n",
    "Répondre à ce message\n",
    "12. Le 26 avril à 07:53, par kwiliga En réponse à : Exploitation minière au Burkina : L’Etat cède les mines de Tambao et d’Inata à Afro Turk pour 30 milliards de francs CFA\n",
    "Ben, ça peut aider à comprendre ce que notre putschiste gouvernement entend par \"souveraineté\".\n",
    "Nos dirigeants sont parfaitement souverains dans leurs choix du \"tout doit continuer comme avant\" et \"on te fait et il n’y a rien\".\n",
    "Pour info : \"La société russe Nordgold, confrontée à l’insécurité dans le pays, aux sanctions occidentales compliquant ses exportations d’or, et à une dégradation de ses relations avec les autorités, a trouvé un repreneur pour sa mine de Taparko. Le groupe aurifère cherche désormais des candidats pour ses sites de Bissa et Yimiougou.\" Africa intelligence 24.04.2023\n",
    "Répondre à ce message\n",
    "13. Le 26 avril à 08:04, par Renault HÉLIE En réponse à : Exploitation minière au Burkina : L’Etat cède les mines de Tambao et d’Inata à Afro Turk pour 30 milliards de francs CFA\n",
    "Bien entendu, on va me censurer ! Mais je me permets d’alerter les burkinabè encore lucides.\n",
    " Cette opération est un pur scandale colonialiste ! C’est de cette façon que des pays comme l’Égypte ou la Tunisie se sont retrouvés sous tutelle.\n",
    " On ne « cède » pas une mine, ni une parcelle du territoire national, on la loue, on la met en exploitation, on en donne concession contre :\n",
    "(1) un loyer important,\n",
    "(2) un pourcentage des extractions et bénéfices, le tout à des conditions révisables,\n",
    "(3) l’obligation d’employer du personnel burkinabè et\n",
    "(4) l’engagement de payer tous les impôts dus.\n",
    " Le prix évoqué est inférieur au prix de 1km² de terrain vide dans une grande ville d’Europe ; je ne crois pas que ce soit le vrai prix, il y a forcément des versements cachés. Dans certains pays, les officiels qui négocient se font verser d’immenses rétro-commisions dans des paradis bancaires (Panama, Singapour).\n",
    " Ces sociétés turques sont des émanations de l’armée turque, qui possède un immense patrimoine de sociétés et d’immobilier. Donc, le BF a cédé une base à l’armée turque, comme ça, sans frémir !\n",
    " La Turquie, ancien colonisateur de la Libye, occupe et rançonne les deux tiers de la Libye par ses milices, dont les personnels sont des terroristes arabes du Maghreb et du Proche-Orient. L’argent coule à flot en rançonnant le pétrole et les commerçants. Les bases, les magasins et les hôpitaux turcs en Libye sont les foyers de repli, de repos et d’approvisionnement des djihadistes qui massacrent des burkinabè par centaines, sachant que l’armée malienne ne contrôle plus le Nord-Mali qui sert d’autoroute vers la Libye. Autrement dit, le BF tombe dans le piège de celui qui fournit la corde pour qu’on le pende et le couteau pour qu’on égorge ses frères, c’est ballot, non ?\n",
    "On en reparle dans 10 ans ?\n",
    "Répondre à ce message\n",
    "14. Le 26 avril à 08:12, par Sheikhy En réponse à : Exploitation minière au Burkina : L’Etat cède les mines de Tambao et d’Inata à Afro Turk pour 30 milliards de francs CFA\n",
    "Pour ce type de dossiers, j’espère que le gouvernement n’a pas fait dans la précipitation. Il faut utiliser toutes les compétences, même extérieures avant de s’engager. Comme quoi, on peut accélérer, mais pas se précipiter. Le seul conseil que je donnerai est que rien ne se fasse aujourd’hui qui ne tienne pas compte de l’intérêt du pays à moyen et long terme. On a assez bradé des choses dans ce pays pendant 30 ans. En stratégie, il faut absolument éviter la myopie et les intérêts personnels. On a beaucoup parlé Ebomaf. Pour moi, ces types d’opérateurs (comme Coris) doivent forcément devenir des bras stratégiques et financiers des régimes. Non pas pour pomper les ressources et alimenter la corruption, mais pour endogeniser et maîtriser certaines choses notamment de grands projets.\n",
    "Répondre à ce message\n",
    "15. Le 26 avril à 09:05, par le visionnaire En réponse à : Exploitation minière au Burkina : L’Etat cède les mines de Tambao et d’Inata à Afro Turk pour 30 milliards de francs CFA\n",
    "Ce pouvoir va vendre complétement ce pays. Non seulement la situation sécuritaire ne s’améliore pas et même qu’elle s’aggrave avec des massacres de civils opérés par nos FDS complètement déboussolés. Mais aussi ils en profitent pour brader le pays. Comment une mine, une des plus riches du monde, Tambao, pour laquelle Sankara a lancé la bataille du rail , qui avait été cédé à Timis ( avec corruption) à 244 milliards et dont les droits étaient estimés à 1000 milliards, peut être bradé à 28 milliards ?\n",
    "Franchement IB et sa bande vont couler complètement ce pays.\n",
    "Ils sont tout sauf des révolutionnaires. Sankara doit se retourner dans sa tombe !\n",
    "Pauvre maître Guy Hervé Kam, il refuse plus de 50 milliards offert par la partie adverse et défend l’Etat Burkinabè par patriotisme et permet au Burkina Faso de gagner le procès et éviter de payer plus de 1000 milliards.\n",
    "Aujourd’hui on vient brader ça à des turcs pour 28 milliards ?\n",
    "Le reveil sera douloureux !\n",
    "Répondre à ce message\n",
    "16. Le 26 avril à 09:09, par Salvatore En réponse à : Exploitation minière au Burkina : L’Etat cède les mines de Tambao et d’Inata à Afro Turk pour 30 milliards de francs CFA\n",
    "Espérons que ces ressources puissent être valorisées par ces nouveaux partenaires !\n",
    "Ces zones sont en difficulté de ravitaillement de carburant notamment et certains sites proches tournent au ralenti.\n",
    "Espérons une bonne reprise.\n",
    "Répondre à ce message\n",
    "17. Le 26 avril à 09:15, par numero1 En réponse à : Exploitation minière au Burkina : L’Etat cède les mines de Tambao et d’Inata à Afro Turk pour 30 milliards de francs CFA\n",
    "Seul l’Afrique et les africains semblent ne pas comprendre le monde de nos jours. Les autres pays viennent exploiter l’Afrique et pour le faire, ils créent ou laissent créer des conflits afin de bien profiter. Dans le contexte actuel au Sahel où tous les pays font face ou menacer par le terrorisme, aucun de ces Etats ne peuvent négocier dans les règles de l’art (’gagnant-gagnant\") avec des sociétés des pays qui promettent ou apportent de l’aide\" dans la lutte anti-terrorisme. Tous les pays du Nord profitent d’une façon ou d’autre de la situation d’insécurité au Sahel et ça c’est modéliser et connu d’avance.\n",
    "Il faut que nous autres africains puissions analyser les choses au fond, au calme et trouver les solutions endogènes et surtout faire preuve d’intelligence en évitant ces conflits inutiles entre nous.\n",
    "Nous en sommes capables mais il faut en prendre d’abord conscience de façon collective.\n",
    "Répondre à ce message\n",
    "18. Le 26 avril à 09:24, par Obliviator ! En réponse à : Exploitation minière au Burkina : L’Etat cède les mines de Tambao et d’Inata à Afro Turk pour 30 milliards de francs CFA\n",
    "Bienvenue au pays des nez percés, dirigé par des gens qui ressemblent à des boucs dont on a fait des jardiniers. Pourquoi donner toujours les droits d’exploitation des mines à des sociétés étrangères sans mêmes penser à faire construire de telles sociétés par des nationaux, ne serait-ce que pour gagner du know-how national ou regional pour le futur à moyen terme ?\n",
    "A ce que je sache, la Turquie n’est pas un pays hautement industrialisé, donc leurs opérateurs viennent rassembler de l’expérience chez nous.\n",
    "Répondre à ce message\n",
    "19. Le 26 avril à 10:29, par Le Duc du Yatenga Nouveau En réponse à : Exploitation minière au Burkina : L’Etat cède les mines de Tambao et d’Inata à Afro Turk pour 30 milliards de francs CFA\n",
    "Burkina Faso, couleur turquoise ! La semaine passée c’est le ravitaillement en matériel militaire via IB bank de EBOMAF qu’un fournisseur Turc a imposé au MPSR. Aujourd’hui, c’est le manganèse de TAMBAO qui est donné à Afro Turk pour 30 milliards. Jusque là, en plus du terrorisme, le verger du Burkina n’a pas de gardien. Le Duc saigne de l’intérieur.\n",
    "Répondre à ce message\n",
    "20. Le 26 avril à 11:25, par le citoyen En réponse à : Exploitation minière au Burkina : L’Etat cède les mines de Tambao et d’Inata à Afro Turk pour 30 milliards de francs CFA\n",
    "Attention à la braderie de nos ressources naturelles !\n",
    "30 millions pour 2 mines. Vraiment le pays est tombé très bas !\n",
    "Et les générations à venir ?\n",
    "un projet d’actionnariat populaire aurait été une bonne affaire pour la nation\n",
    "Pauvres africains !\n",
    "Répondre à ce message\n",
    "21. Le 26 avril à 12:04, par Sacksida En réponse à : Exploitation minière au Burkina : L’Etat cède les mines de Tambao et d’Inata à Afro Turk pour 30 milliards de francs CFA\n",
    "D’abord il faut denoncer cette Cession de la plus Grande Mine au Monde appartenant au Burkina Faso et qui ressemble a un Bradage Inconsidere des Patrimoines Miniers Nationaux. Que represente la modeste somme de 30 Milliards de CFCA, par rapport a l’Importance de cette Mines et le Developpement Economique et Social Fondamental que doit Impliquer son Exploitation Judicieuse. De surcroit, surtout par une Entente Directe occasionnant parfois de Grandes Corruptions Endemiques et aux Detriments des Interets Generaux du Peuple Burkinabe. Des Projets Economiques et Sociaux sont lies a l’Exploitation de Cette Mines ; la question du Bitumage de la Route Dori Tambao, la question de la Rehabilitation du Chemin de Fer Ouaga Kaya, et la suite de la realisation du Chemin de Fer Kaya Tambao et d’autres Infrastructures Sociaux Economiques Endogenes. Pourquoi une Entente Directe denoncee depuis longtemps et le MPSR 2, le President Ibrahim Traore et son Gouvernement n’ont pas mieux que Blaise compaore et Rock Marc Christian Kabore et la Mauvaise Gouvernance Continue, or il etait possible de faire un Appel d’Offre International pour choisir la Meilleure Offre Pertinente qui y comporte des Avantages Averes pour notre Peuple Burkinabe et son Developpement Economique et Social Fondamental. En tout etat de cause, nous reiterons que la Revolution Democratique et Sociale Continuelle serait la Solution Pertinente et Endogene pour garantir des Interets de Notre Peuple Burkinabe et afin d’eviter ce genre de Bradages des Patrimoines Nationaux Burkinabe. Salut\n",
    "Répondre à ce message\n",
    "22. Le 26 avril à 12:05, par SIDNABA En réponse à : Exploitation minière au Burkina : L’Etat cède les mines de Tambao et d’Inata à Afro Turk pour 30 milliards de francs CFA\n",
    "Le vrai patriote c’est bien le Président Rock Kaboré en tant qu’économiste gestionnaire avisés et expérimenté, a refusé de brader de cette manière nos ressources naturelles à vil prix malgré la menace terroriste. C’est vraiment triste pour le Burkina d’être dirigé par des gens nées hier et très immatures. Comment peut-on vendre la mine de Tambao à 28 milliards de FCFA soit environ 47 151 755 Dollars US (au taux de ce jour 26 Avril 2023). Faut-il en rire ou en pleurer ? Et nos officiers Généraux sont là assis à regarder ? Qui va sauver ce pays ?\n",
    "Répondre à ce message\n",
    "23. Le 26 avril à 13:39, par Bajazet En réponse à : Exploitation minière au Burkina : L’Etat cède les mines de Tambao et d’Inata à Afro Turk pour 30 milliards de francs CFA\n",
    "Dans dix ans, ON SAURA TOUT !\n",
    "Et que ça pleurniche sur l’impérialisme, le néocolonialisme et sur n’importe quoi, et que c’est toujours la faute des Toubabs.... et ça vend des pans entiers de son territoire à des colonisateurs bien connus, et pour une bouchée de pain, sans oublier les probables « commissions » bien grasses dans une banque suisse.\n",
    "Dans dix ans, je serai enfin retraité, je croiserai de riches généraux burkinabè retraités sur une plage de Dakar ou dans un restaurant de Lausanne ; ils siroteront leur Whisky de 12 ans d’âge en agitant distraitement le porte-clé de leur 4*4 Mercedes à 12 cylindres, nous échangerons des souvenirs. Leurs enfants seront étudiants à Yale, Cambridge ou Zürich. Ça sera un moment très sympathique...\n",
    "Tiens, au passage, avant les Anglais, les Italiens et les Français, qui a colonisé l’Afrique jusqu’au Soudan ? L’Algérie, la Tunisie, la Libye, l’Égypte, le Soudan... Eh bien vous pouvez chercher sur Google pendant des heures, vous ne trouverez pas 5 ponts turcs, ni de km de chemin de fer turc, ni un barrage turc, ni un système d’irrigation turc, ni un hôpital sérieux, ni un lycée, ni même 10 km de bonne route solide laissés par les turcs dans leurs colonies d’Afrique ! Toutes les infrastructures datent des Anglais, des Français et un peu des Italiens. Les Turcs furent de purs prédateurs sans aucune contrepartie, des esclavagistes INDUSTRIELS, des ramasseurs d’impôts sans jamais rien faire d’utile, des voleurs paresseux intégraux. Ils se servaient, mais ne construisaient RIEN, rien de rien. Ah si, ils construisaient parfois des palais de mauvais goût pour leurs concubines.\n",
    "En plus, devinez qui occupe littéralement les 2/3 ouest de la Libye, là où vos terroristes ont leurs bases arrière ? Eh oui, ce sont les Turcs qui nourrissent et fournissent vos jihadistes d’enfer...\n",
    "Je ne serais pas étonné si on bloque mon « post ».\n",
    "Répondre à ce message\n",
    "24. Le 26 avril à 15:21, par JJP En réponse à : Exploitation minière au Burkina : L’Etat cède les mines de Tambao et d’Inata à Afro Turk pour 30 milliards de francs CFA\n",
    "30 milliards de FCFA, soit 45 millions d’euros. Le prix d’un airbus A 320 est de 87 millions d’euros.\n",
    "Répondre à ce message\n",
    "25. Le 27 avril à 07:22, par Sacksida En réponse à : Exploitation minière au Burkina : L’Etat cède les mines de Tambao et d’Inata à Afro Turk pour 30 milliards de francs CFA\n",
    "De plus, s’agissant des Expertises ou Competences Averees le Burkina Faso en possede de Grandes Qualites Issues des Ecoles d’Exellences et avec des Experiences de 25 a 35 ans et Plus organissees en Consultants ou Cabinets d’Etudes qui sont Solicitees partout en Afrique et a l’International pour ce genre de Dossiers Techniques et Financiers. C’est a l’Etat Burkinabe de les Soliciter s’il veut des Avis d’Experts dans le Domaine et de Facon Sinceres. Salut\n",
    "Répondre à ce message\n",
    "\n",
    "\"\"\"\n",
    ")\n",
    "s_text"
   ]
  },
  {
   "cell_type": "code",
   "execution_count": 262,
   "id": "4cdb13fc",
   "metadata": {},
   "outputs": [
    {
     "data": {
      "text/plain": [
       "array([0], dtype=int64)"
      ]
     },
     "execution_count": 262,
     "metadata": {},
     "output_type": "execute_result"
    }
   ],
   "source": [
    "pl_rf_tfidf.predict(s_text)"
   ]
  },
  {
   "cell_type": "code",
   "execution_count": null,
   "id": "3b626aa2",
   "metadata": {},
   "outputs": [],
   "source": [
    "# 0 shows that the article is possitive"
   ]
  },
  {
   "cell_type": "code",
   "execution_count": null,
   "id": "6317d760",
   "metadata": {},
   "outputs": [],
   "source": []
  }
 ],
 "metadata": {
  "kernelspec": {
   "display_name": "Python 3 (ipykernel)",
   "language": "python",
   "name": "python3"
  },
  "language_info": {
   "codemirror_mode": {
    "name": "ipython",
    "version": 3
   },
   "file_extension": ".py",
   "mimetype": "text/x-python",
   "name": "python",
   "nbconvert_exporter": "python",
   "pygments_lexer": "ipython3",
   "version": "3.9.13"
  }
 },
 "nbformat": 4,
 "nbformat_minor": 5
}
